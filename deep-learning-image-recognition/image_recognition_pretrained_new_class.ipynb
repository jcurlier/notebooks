{
 "cells": [
  {
   "cell_type": "markdown",
   "metadata": {},
   "source": [
    "# Image Recognition Pre-trained new Class\n",
    "\n",
    "<img src=\"images/not_dog.png\"/>\n",
    "\n",
    "### Libraries\n",
    "- http://www.numpy.org/\n",
    "- https://pypi.org/project/joblib/\n",
    "- https://keras.io/\n",
    "- https://www.tensorflow.org/\n",
    "\n",
    "### Source\n",
    "- https://www.linkedin.com/learning/deep-learning-image-recognition"
   ]
  },
  {
   "cell_type": "code",
   "execution_count": 2,
   "metadata": {},
   "outputs": [
    {
     "name": "stderr",
     "output_type": "stream",
     "text": [
      "Using TensorFlow backend.\n"
     ]
    }
   ],
   "source": [
    "from pathlib import Path\n",
    "import numpy as np\n",
    "import joblib\n",
    "from keras.preprocessing import image\n",
    "from keras.applications import vgg16\n",
    "from keras.models import model_from_json, Sequential\n",
    "from keras.layers import Dense, Dropout, Flatten"
   ]
  },
  {
   "cell_type": "code",
   "execution_count": 6,
   "metadata": {},
   "outputs": [
    {
     "data": {
      "text/plain": [
       "['models/dog_y_train.dat']"
      ]
     },
     "execution_count": 6,
     "metadata": {},
     "output_type": "execute_result"
    }
   ],
   "source": [
    "# Feature extraction\n",
    "\n",
    "# Path to folders with training data\n",
    "dog_path = Path(\"images/dog_training_data/dogs\")\n",
    "not_dog_path = Path(\"images/dog_training_data/not_dogs\")\n",
    "\n",
    "images = []\n",
    "labels = []\n",
    "\n",
    "# Load all the not-dog images\n",
    "for img in not_dog_path.glob(\"*.png\"):\n",
    "    # Load the image from disk\n",
    "    img = image.load_img(img)\n",
    "\n",
    "    # Convert the image to a numpy array\n",
    "    image_array = image.img_to_array(img)\n",
    "\n",
    "    # Add the image to the list of images\n",
    "    images.append(image_array)\n",
    "\n",
    "    # For each 'not dog' image, the expected value should be 0\n",
    "    labels.append(0)\n",
    "\n",
    "# Load all the dog images\n",
    "for img in dog_path.glob(\"*.png\"):\n",
    "    # Load the image from disk\n",
    "    img = image.load_img(img)\n",
    "\n",
    "    # Convert the image to a numpy array\n",
    "    image_array = image.img_to_array(img)\n",
    "\n",
    "    # Add the image to the list of images\n",
    "    images.append(image_array)\n",
    "\n",
    "    # For each 'dog' image, the expected value should be 1\n",
    "    labels.append(1)\n",
    "\n",
    "# Create a single numpy array with all the images we loaded\n",
    "x_train = np.array(images)\n",
    "\n",
    "# Also convert the labels to a numpy array\n",
    "y_train = np.array(labels)\n",
    "\n",
    "# Normalize image data to 0-to-1 range\n",
    "x_train = vgg16.preprocess_input(x_train)\n",
    "\n",
    "# Load a pre-trained neural network to use as a feature extractor\n",
    "pretrained_nn = vgg16.VGG16(weights='imagenet', include_top=False, input_shape=(64, 64, 3))\n",
    "\n",
    "# Extract features for each image (all in one pass)\n",
    "features_x = pretrained_nn.predict(x_train)\n",
    "\n",
    "# Save the array of extracted features to a file\n",
    "joblib.dump(features_x, \"models/dog_x_train.dat\")\n",
    "\n",
    "# Save the matching array of expected values to a file\n",
    "joblib.dump(y_train, \"models/dog_y_train.dat\")"
   ]
  },
  {
   "cell_type": "code",
   "execution_count": 7,
   "metadata": {},
   "outputs": [
    {
     "name": "stdout",
     "output_type": "stream",
     "text": [
      "Epoch 1/10\n",
      "58/58 [==============================] - 1s 14ms/step - loss: 6.3903 - acc: 0.4655\n",
      "Epoch 2/10\n",
      "58/58 [==============================] - 0s 798us/step - loss: 3.4624 - acc: 0.7241\n",
      "Epoch 3/10\n",
      "58/58 [==============================] - 0s 592us/step - loss: 1.5026 - acc: 0.8793\n",
      "Epoch 4/10\n",
      "58/58 [==============================] - 0s 622us/step - loss: 0.5385 - acc: 0.9655\n",
      "Epoch 5/10\n",
      "58/58 [==============================] - 0s 750us/step - loss: 0.8862 - acc: 0.9310\n",
      "Epoch 6/10\n",
      "58/58 [==============================] - 0s 617us/step - loss: 0.3828 - acc: 0.9483\n",
      "Epoch 7/10\n",
      "58/58 [==============================] - 0s 358us/step - loss: 0.2749 - acc: 0.9828\n",
      "Epoch 8/10\n",
      "58/58 [==============================] - 0s 649us/step - loss: 0.2749 - acc: 0.9828\n",
      "Epoch 9/10\n",
      "58/58 [==============================] - 0s 504us/step - loss: 0.8248 - acc: 0.9483\n",
      "Epoch 10/10\n",
      "58/58 [==============================] - 0s 421us/step - loss: 0.0932 - acc: 0.9828\n"
     ]
    }
   ],
   "source": [
    "# Training\n",
    "\n",
    "# Load data set\n",
    "x_train = joblib.load(\"models/dog_x_train.dat\")\n",
    "y_train = joblib.load(\"models/dog_y_train.dat\")\n",
    "\n",
    "# Create a model and add layers\n",
    "model = Sequential()\n",
    "\n",
    "model.add(Flatten(input_shape=x_train.shape[1:]))\n",
    "model.add(Dense(256, activation='relu'))\n",
    "model.add(Dropout(0.5))\n",
    "model.add(Dense(1, activation='sigmoid'))\n",
    "\n",
    "# Compile the model\n",
    "model.compile(\n",
    "    loss=\"binary_crossentropy\",\n",
    "    optimizer=\"adam\",\n",
    "    metrics=['accuracy']\n",
    ")\n",
    "\n",
    "# Train the model\n",
    "model.fit(\n",
    "    x_train,\n",
    "    y_train,\n",
    "    epochs=10,\n",
    "    shuffle=True\n",
    ")\n",
    "\n",
    "# Save neural network structure\n",
    "model_structure = model.to_json()\n",
    "f = Path(\"models/dog_model_structure.json\")\n",
    "f.write_text(model_structure)\n",
    "\n",
    "# Save neural network's trained weights\n",
    "model.save_weights(\"models/dog_model_weights.h5\")"
   ]
  },
  {
   "cell_type": "code",
   "execution_count": 8,
   "metadata": {},
   "outputs": [
    {
     "name": "stdout",
     "output_type": "stream",
     "text": [
      "Likelihood that this image contains a dog: 0%\n"
     ]
    }
   ],
   "source": [
    "# Predict\n",
    "\n",
    "# Load the json file that contains the model's structure\n",
    "f = Path(\"models/dog_model_structure.json\")\n",
    "model_structure = f.read_text()\n",
    "\n",
    "# Recreate the Keras model object from the json data\n",
    "model = model_from_json(model_structure)\n",
    "\n",
    "# Re-load the model's trained weights\n",
    "model.load_weights(\"models/dog_model_weights.h5\")\n",
    "\n",
    "# Load an image file to test, resizing it to 64x64 pixels (as required by this model)\n",
    "img = image.load_img(\"images/not_dog.png\", target_size=(64, 64))\n",
    "\n",
    "# Convert the image to a numpy array\n",
    "image_array = image.img_to_array(img)\n",
    "\n",
    "# Add a forth dimension to the image (since Keras expects a bunch of images, not a single image)\n",
    "images = np.expand_dims(image_array, axis=0)\n",
    "\n",
    "# Normalize the data\n",
    "images = vgg16.preprocess_input(images)\n",
    "\n",
    "# Use the pre-trained neural network to extract features from our test image (the same way we did to train the model)\n",
    "feature_extraction_model = vgg16.VGG16(weights='imagenet', include_top=False, input_shape=(64, 64, 3))\n",
    "features = feature_extraction_model.predict(images)\n",
    "\n",
    "# Given the extracted features, make a final prediction using our own model\n",
    "results = model.predict(features)\n",
    "\n",
    "# Since we are only testing one image with possible class, we only need to check the first result's first element\n",
    "single_result = results[0][0]\n",
    "\n",
    "# Print the result\n",
    "print(\"Likelihood that this image contains a dog: {}%\".format(int(single_result * 100)))"
   ]
  },
  {
   "cell_type": "code",
   "execution_count": null,
   "metadata": {},
   "outputs": [],
   "source": []
  }
 ],
 "metadata": {
  "kernelspec": {
   "display_name": "Python 3",
   "language": "python",
   "name": "python3"
  },
  "language_info": {
   "codemirror_mode": {
    "name": "ipython",
    "version": 3
   },
   "file_extension": ".py",
   "mimetype": "text/x-python",
   "name": "python",
   "nbconvert_exporter": "python",
   "pygments_lexer": "ipython3",
   "version": "3.6.6"
  }
 },
 "nbformat": 4,
 "nbformat_minor": 2
}
