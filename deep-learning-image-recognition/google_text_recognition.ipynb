{
 "cells": [
  {
   "cell_type": "markdown",
   "metadata": {},
   "source": [
    "# Google Text Recognition\n",
    "\n",
    "<img src=\"images/text.png\" width=\"500\"/>\n",
    "\n",
    "### Setup Google credentials\n",
    "1. Navigate to https://console.cloud.google.com\n",
    "2. Create a project\n",
    "3. Add the Cloud Vision API API\n",
    "3. Create a credential with project view role\n",
    "4. Save under security/credential.json\n",
    "\n",
    "More information in the course below:\n",
    "https://www.linkedin.com/learning/deep-learning-image-recognition/setting-up-google-cloud-vision-account-credentials\n",
    "\n",
    "\n",
    "### Source\n",
    "https://www.linkedin.com/learning/deep-learning-image-recognition"
   ]
  },
  {
   "cell_type": "code",
   "execution_count": 1,
   "metadata": {},
   "outputs": [
    {
     "name": "stdout",
     "output_type": "stream",
     "text": [
      "BEATRICE\n",
      "I pray you, is Signior Mountanto returned from the\n",
      "wars or no?\n",
      "Messenger\n",
      "I know none of that name, lady: there was none such\n",
      "in the army of any sort,\n",
      "LEONATO\n",
      "What is he that you ask for, niece?\n",
      "HERO\n",
      "My cousin means Signior Benedick of Padua.\n",
      "Messenger\n",
      "O, he's returned; and as pleasant as ever he was\n",
      "BEATRICE\n",
      "He set up his bills here in Messina and challenged\n",
      "Cupid at the flight; and my uncle's fool, reading\n",
      "the challenge, subscribed for Cupid, and challenged\n",
      "him at the bird-bolt. I pray you, how many hath he\n",
      "killed and eaten in these wars? But how many hath\n",
      "he killed? for indeed I promised to eat all of his killing\n",
      "\n",
      "{'vertices': [{'x': 16, 'y': 9}, {'x': 794, 'y': 9}, {'x': 794, 'y': 1038}, {'x': 16, 'y': 1038}]}\n"
     ]
    }
   ],
   "source": [
    "from base64 import b64encode\n",
    "\n",
    "import googleapiclient.discovery\n",
    "from oauth2client.client import GoogleCredentials\n",
    "\n",
    "# Change this values to match your project\n",
    "IMAGE_FILE = \"images/text.png\"\n",
    "CREDENTIALS_FILE = \"security/credentials.json\"\n",
    "\n",
    "# Connect to the Google Cloud-ML Service\n",
    "credentials = GoogleCredentials.from_stream(CREDENTIALS_FILE)\n",
    "service = googleapiclient.discovery.build('vision', 'v1', credentials=credentials)\n",
    "\n",
    "# Read file and convert it to a base64 encoding\n",
    "with open(IMAGE_FILE, \"rb\") as f:\n",
    "    image_data = f.read()\n",
    "    encoded_image_data = b64encode(image_data).decode('UTF-8')\n",
    "\n",
    "# Create the request object for the Google Vision API\n",
    "batch_request = [{\n",
    "    'image': {\n",
    "        'content': encoded_image_data\n",
    "    },\n",
    "    'features': [\n",
    "        {\n",
    "            'type': 'TEXT_DETECTION'\n",
    "        }\n",
    "    ]\n",
    "}]\n",
    "request = service.images().annotate(body={'requests': batch_request})\n",
    "\n",
    "# Send the request to Google\n",
    "response = request.execute()\n",
    "\n",
    "# Check for errors\n",
    "if 'error' in response:\n",
    "    raise RuntimeError(response['error'])\n",
    "\n",
    "# Print the results\n",
    "extracted_texts = response['responses'][0]['textAnnotations']\n",
    "\n",
    "# Print the first piece of text found in the image\n",
    "extracted_text = extracted_texts[0]\n",
    "print(extracted_text['description'])\n",
    "\n",
    "# Print the location where the text was detected\n",
    "print(extracted_text['boundingPoly'])"
   ]
  },
  {
   "cell_type": "code",
   "execution_count": null,
   "metadata": {},
   "outputs": [],
   "source": []
  }
 ],
 "metadata": {
  "kernelspec": {
   "display_name": "Python 3",
   "language": "python",
   "name": "python3"
  },
  "language_info": {
   "codemirror_mode": {
    "name": "ipython",
    "version": 3
   },
   "file_extension": ".py",
   "mimetype": "text/x-python",
   "name": "python",
   "nbconvert_exporter": "python",
   "pygments_lexer": "ipython3",
   "version": "3.6.6"
  }
 },
 "nbformat": 4,
 "nbformat_minor": 2
}
