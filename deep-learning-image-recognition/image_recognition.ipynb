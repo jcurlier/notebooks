{
 "cells": [
  {
   "cell_type": "markdown",
   "metadata": {},
   "source": [
    "# Image Recognition\n",
    "\n",
    "### Data\n",
    "- https://en.wikipedia.org/wiki/CIFAR-10\n",
    "\n",
    "### Libraries\n",
    "- http://www.numpy.org/\n",
    "- https://keras.io/\n",
    "- https://www.tensorflow.org/\n",
    "\n",
    "### Source\n",
    "- https://www.linkedin.com/learning/deep-learning-image-recognition"
   ]
  },
  {
   "cell_type": "code",
   "execution_count": 21,
   "metadata": {},
   "outputs": [],
   "source": [
    "# Libraries\n",
    "\n",
    "import keras\n",
    "from keras.datasets import cifar10\n",
    "from keras.models import Sequential, model_from_json\n",
    "from keras.layers import Dense, Dropout, Flatten, Conv2D, MaxPooling2D\n",
    "from keras.preprocessing import image\n",
    "\n",
    "import numpy as np\n",
    "from pathlib import Path"
   ]
  },
  {
   "cell_type": "code",
   "execution_count": 11,
   "metadata": {},
   "outputs": [],
   "source": [
    "# Load data set\n",
    "\n",
    "(x_train, y_train), (x_test, y_test) = cifar10.load_data()\n",
    "\n",
    "# Normalize data set to 0-to-1 range\n",
    "x_train = x_train.astype('float32')\n",
    "x_test = x_test.astype('float32')\n",
    "x_train /= 255\n",
    "x_test /= 255\n",
    "\n",
    "# Convert class vectors to binary class matrices\n",
    "y_train = keras.utils.to_categorical(y_train, 10)\n",
    "y_test = keras.utils.to_categorical(y_test, 10)"
   ]
  },
  {
   "cell_type": "code",
   "execution_count": 12,
   "metadata": {},
   "outputs": [],
   "source": [
    "# Build a model and add layers\n",
    "model = Sequential()\n",
    "\n",
    "model.add(Conv2D(32, (3, 3), padding='same', input_shape=(32, 32, 3), activation=\"relu\"))\n",
    "model.add(Conv2D(32, (3, 3), activation=\"relu\"))\n",
    "model.add(MaxPooling2D(pool_size=(2, 2)))\n",
    "model.add(Dropout(0.25))\n",
    "\n",
    "model.add(Conv2D(64, (3, 3), padding='same', activation=\"relu\"))\n",
    "model.add(Conv2D(64, (3, 3), activation=\"relu\"))\n",
    "model.add(MaxPooling2D(pool_size=(2, 2)))\n",
    "model.add(Dropout(0.25))\n",
    "\n",
    "model.add(Flatten())\n",
    "model.add(Dense(512, activation=\"relu\"))\n",
    "model.add(Dropout(0.5))\n",
    "model.add(Dense(10, activation=\"softmax\"))\n",
    "\n",
    "# Compile the model\n",
    "model.compile(\n",
    "    loss='categorical_crossentropy',\n",
    "    optimizer='adam',\n",
    "    metrics=['accuracy']\n",
    ")"
   ]
  },
  {
   "cell_type": "code",
   "execution_count": 13,
   "metadata": {},
   "outputs": [
    {
     "name": "stdout",
     "output_type": "stream",
     "text": [
      "Train on 50000 samples, validate on 10000 samples\n",
      "Epoch 1/30\n",
      "50000/50000 [==============================] - 180s 4ms/step - loss: 1.5549 - acc: 0.4360 - val_loss: 1.1768 - val_acc: 0.5751\n",
      "Epoch 2/30\n",
      "50000/50000 [==============================] - 190s 4ms/step - loss: 1.1340 - acc: 0.5969 - val_loss: 0.9840 - val_acc: 0.6483\n",
      "Epoch 3/30\n",
      "50000/50000 [==============================] - 196s 4ms/step - loss: 0.9581 - acc: 0.6636 - val_loss: 0.8591 - val_acc: 0.7019\n",
      "Epoch 4/30\n",
      "50000/50000 [==============================] - 190s 4ms/step - loss: 0.8504 - acc: 0.7034 - val_loss: 0.7877 - val_acc: 0.7269\n",
      "Epoch 5/30\n",
      "50000/50000 [==============================] - 187s 4ms/step - loss: 0.7769 - acc: 0.7269 - val_loss: 0.7333 - val_acc: 0.7507\n",
      "Epoch 6/30\n",
      "50000/50000 [==============================] - 179s 4ms/step - loss: 0.7258 - acc: 0.7445 - val_loss: 0.7023 - val_acc: 0.7603\n",
      "Epoch 7/30\n",
      "50000/50000 [==============================] - 184s 4ms/step - loss: 0.6824 - acc: 0.7612 - val_loss: 0.6863 - val_acc: 0.7613\n",
      "Epoch 8/30\n",
      "50000/50000 [==============================] - 175s 3ms/step - loss: 0.6498 - acc: 0.7716 - val_loss: 0.6505 - val_acc: 0.7760\n",
      "Epoch 9/30\n",
      "50000/50000 [==============================] - 178s 4ms/step - loss: 0.6198 - acc: 0.7822 - val_loss: 0.6378 - val_acc: 0.7822\n",
      "Epoch 10/30\n",
      "50000/50000 [==============================] - 180s 4ms/step - loss: 0.5868 - acc: 0.7922 - val_loss: 0.6624 - val_acc: 0.7742\n",
      "Epoch 11/30\n",
      "50000/50000 [==============================] - 184s 4ms/step - loss: 0.5644 - acc: 0.8018 - val_loss: 0.6734 - val_acc: 0.7749\n",
      "Epoch 12/30\n",
      "50000/50000 [==============================] - 184s 4ms/step - loss: 0.5422 - acc: 0.8091 - val_loss: 0.6370 - val_acc: 0.7830\n",
      "Epoch 13/30\n",
      "50000/50000 [==============================] - 156s 3ms/step - loss: 0.5221 - acc: 0.8141 - val_loss: 0.6272 - val_acc: 0.7853\n",
      "Epoch 14/30\n",
      "50000/50000 [==============================] - 155s 3ms/step - loss: 0.5003 - acc: 0.8231 - val_loss: 0.6373 - val_acc: 0.7830\n",
      "Epoch 15/30\n",
      "50000/50000 [==============================] - 155s 3ms/step - loss: 0.4841 - acc: 0.8291 - val_loss: 0.6126 - val_acc: 0.7964\n",
      "Epoch 16/30\n",
      "50000/50000 [==============================] - 156s 3ms/step - loss: 0.4700 - acc: 0.8341 - val_loss: 0.6190 - val_acc: 0.7933\n",
      "Epoch 17/30\n",
      "50000/50000 [==============================] - 6606s 132ms/step - loss: 0.4614 - acc: 0.8373 - val_loss: 0.6068 - val_acc: 0.7984\n",
      "Epoch 18/30\n",
      "50000/50000 [==============================] - 187s 4ms/step - loss: 0.4432 - acc: 0.8436 - val_loss: 0.6210 - val_acc: 0.7939\n",
      "Epoch 19/30\n",
      "50000/50000 [==============================] - 186s 4ms/step - loss: 0.4331 - acc: 0.8449 - val_loss: 0.6189 - val_acc: 0.8027\n",
      "Epoch 20/30\n",
      "50000/50000 [==============================] - 181s 4ms/step - loss: 0.4224 - acc: 0.8496 - val_loss: 0.6487 - val_acc: 0.7929\n",
      "Epoch 21/30\n",
      "50000/50000 [==============================] - 181s 4ms/step - loss: 0.4111 - acc: 0.8528 - val_loss: 0.6186 - val_acc: 0.7999\n",
      "Epoch 22/30\n",
      "50000/50000 [==============================] - 175s 4ms/step - loss: 0.3998 - acc: 0.8579 - val_loss: 0.6352 - val_acc: 0.7960\n",
      "Epoch 23/30\n",
      "50000/50000 [==============================] - 185s 4ms/step - loss: 0.3938 - acc: 0.8610 - val_loss: 0.6191 - val_acc: 0.7971\n",
      "Epoch 24/30\n",
      "50000/50000 [==============================] - 175s 4ms/step - loss: 0.3870 - acc: 0.8636 - val_loss: 0.6775 - val_acc: 0.7953\n",
      "Epoch 25/30\n",
      "50000/50000 [==============================] - 178s 4ms/step - loss: 0.3833 - acc: 0.8643 - val_loss: 0.6378 - val_acc: 0.7961\n",
      "Epoch 26/30\n",
      "50000/50000 [==============================] - 188s 4ms/step - loss: 0.3736 - acc: 0.8671 - val_loss: 0.6387 - val_acc: 0.8010\n",
      "Epoch 27/30\n",
      "50000/50000 [==============================] - 186s 4ms/step - loss: 0.3635 - acc: 0.8716 - val_loss: 0.6272 - val_acc: 0.8039\n",
      "Epoch 28/30\n",
      "50000/50000 [==============================] - 188s 4ms/step - loss: 0.3618 - acc: 0.8718 - val_loss: 0.6380 - val_acc: 0.7981\n",
      "Epoch 29/30\n",
      "50000/50000 [==============================] - 183s 4ms/step - loss: 0.3474 - acc: 0.8760 - val_loss: 0.6320 - val_acc: 0.8000\n",
      "Epoch 30/30\n",
      "50000/50000 [==============================] - 182s 4ms/step - loss: 0.3466 - acc: 0.8765 - val_loss: 0.6307 - val_acc: 0.8019\n"
     ]
    }
   ],
   "source": [
    "# Train the model\n",
    "model.fit(\n",
    "    x_train,\n",
    "    y_train,\n",
    "    batch_size=64,\n",
    "    epochs=30,\n",
    "    validation_data=(x_test, y_test),\n",
    "    shuffle=True\n",
    ")\n",
    "\n",
    "# Save neural network structure\n",
    "model_structure = model.to_json()\n",
    "f = Path(\"models/image_recognition_model_structure.json\")\n",
    "f.write_text(model_structure)\n",
    "\n",
    "# Save neural network's trained weights\n",
    "model.save_weights(\"models/image_recognition_model_weights.h5\")"
   ]
  },
  {
   "cell_type": "code",
   "execution_count": 14,
   "metadata": {},
   "outputs": [],
   "source": [
    "# These are the CIFAR10 class labels from the training data (in order from 0 to 9)\n",
    "class_labels = [\n",
    "    \"Plane\",\n",
    "    \"Car\",\n",
    "    \"Bird\",\n",
    "    \"Cat\",\n",
    "    \"Deer\",\n",
    "    \"Dog\",\n",
    "    \"Frog\",\n",
    "    \"Horse\",\n",
    "    \"Boat\",\n",
    "    \"Truck\"\n",
    "]"
   ]
  },
  {
   "cell_type": "code",
   "execution_count": 17,
   "metadata": {},
   "outputs": [],
   "source": [
    "# Load the model for prediction\n",
    "\n",
    "# Load the json file that contains the model's structure\n",
    "f = Path(\"models/image_recognition_model_structure.json\")\n",
    "prediction_model_structure = f.read_text()\n",
    "\n",
    "# Recreate the Keras model object from the json data\n",
    "prediction_model = model_from_json(prediction_model_structure)\n",
    "\n",
    "# Re-load the model's trained weights\n",
    "prediction_model.load_weights(\"models/image_recognition_model_weights.h5\")"
   ]
  },
  {
   "cell_type": "code",
   "execution_count": 32,
   "metadata": {},
   "outputs": [
    {
     "name": "stdout",
     "output_type": "stream",
     "text": [
      "[0. 1. 0. 0. 0. 0. 0. 0. 0. 0.]\n",
      "This is image is a Car - Likelihood: 1.000000\n"
     ]
    }
   ],
   "source": [
    "# Predict\n",
    "\n",
    "# Load an image file to test, resizing it to 32x32 pixels (as required by this model)\n",
    "img = image.load_img(\"images/car.png\", target_size=(32, 32))\n",
    "\n",
    "# Convert the image to a numpy array\n",
    "image_to_test = image.img_to_array(img)\n",
    "\n",
    "# Add a fourth dimension to the image (since Keras expects a list of images, not a single image)\n",
    "list_of_images = np.expand_dims(image_to_test, axis=0)\n",
    "\n",
    "# Make a prediction using the model\n",
    "results = prediction_model.predict(list_of_images)\n",
    "\n",
    "# Since we are only testing one image, we only need to check the first result\n",
    "single_result = results[0]\n",
    "print(single_result)\n",
    "\n",
    "# We will get a likelihood score for all 10 possible classes. Find out which class had the highest score.\n",
    "most_likely_class_index = int(np.argmax(single_result))\n",
    "class_likelihood = single_result[most_likely_class_index]\n",
    "\n",
    "# Get the name of the most likely class\n",
    "class_label = class_labels[most_likely_class_index]\n",
    "\n",
    "# Print the result\n",
    "print(\"This is image is a {} - Likelihood: {:2f}\".format(class_label, class_likelihood))"
   ]
  },
  {
   "cell_type": "code",
   "execution_count": null,
   "metadata": {},
   "outputs": [],
   "source": []
  }
 ],
 "metadata": {
  "kernelspec": {
   "display_name": "Python 3",
   "language": "python",
   "name": "python3"
  },
  "language_info": {
   "codemirror_mode": {
    "name": "ipython",
    "version": 3
   },
   "file_extension": ".py",
   "mimetype": "text/x-python",
   "name": "python",
   "nbconvert_exporter": "python",
   "pygments_lexer": "ipython3",
   "version": "3.6.6"
  }
 },
 "nbformat": 4,
 "nbformat_minor": 2
}
