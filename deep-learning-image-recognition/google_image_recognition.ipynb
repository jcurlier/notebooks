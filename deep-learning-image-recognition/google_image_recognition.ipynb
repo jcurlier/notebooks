{
 "cells": [
  {
   "cell_type": "markdown",
   "metadata": {},
   "source": [
    "# Google Image Recognition\n",
    "\n",
    "<img src=\"images/road_sign.jpg\" width=\"500\"/>\n",
    "\n",
    "### Setup Google credentials\n",
    "1. Navigate to https://console.cloud.google.com\n",
    "2. Create a project\n",
    "3. Add the Cloud Vision API API\n",
    "3. Create a credential with project view role\n",
    "4. Save under security/credential.json\n",
    "\n",
    "More information in the course below:\n",
    "https://www.linkedin.com/learning/deep-learning-image-recognition/setting-up-google-cloud-vision-account-credentials\n",
    "\n",
    "### Source\n",
    "https://www.linkedin.com/learning/deep-learning-image-recognition"
   ]
  },
  {
   "cell_type": "code",
   "execution_count": 1,
   "metadata": {},
   "outputs": [
    {
     "name": "stdout",
     "output_type": "stream",
     "text": [
      "road 0.96166366\n",
      "infrastructure 0.89450485\n",
      "traffic sign 0.8921944\n",
      "sky 0.8914411\n",
      "signage 0.8640106\n",
      "lane 0.8257839\n",
      "sign 0.82182795\n",
      "highway 0.7602515\n",
      "line 0.6605833\n",
      "asphalt 0.65034837\n"
     ]
    }
   ],
   "source": [
    "from base64 import b64encode\n",
    "\n",
    "import googleapiclient.discovery\n",
    "from oauth2client.client import GoogleCredentials\n",
    "\n",
    "# Settings\n",
    "IMAGE_FILE = \"images/road_sign.jpg\"\n",
    "CREDENTIALS_FILE = \"security/credentials.json\"\n",
    "\n",
    "# Connect to the Google Cloud-ML Service\n",
    "credentials = GoogleCredentials.from_stream(CREDENTIALS_FILE)\n",
    "service = googleapiclient.discovery.build('vision', 'v1', credentials=credentials)\n",
    "\n",
    "# Read file and convert it to a base64 encoding\n",
    "with open(IMAGE_FILE, \"rb\") as f:\n",
    "    image_data = f.read()\n",
    "    encoded_image_data = b64encode(image_data).decode('UTF-8')\n",
    "\n",
    "# Create the request object for the Google Vision API\n",
    "batch_request = [{\n",
    "    'image': {\n",
    "        'content': encoded_image_data\n",
    "    },\n",
    "    'features': [\n",
    "        {\n",
    "            'type': 'LABEL_DETECTION'\n",
    "        }\n",
    "    ]\n",
    "}]\n",
    "request = service.images().annotate(body={'requests': batch_request})\n",
    "\n",
    "# Send the request to Google\n",
    "response = request.execute()\n",
    "\n",
    "# Check for errors\n",
    "if 'error' in response:\n",
    "    raise RuntimeError(response['error'])\n",
    "\n",
    "# Print the results\n",
    "labels = response['responses'][0]['labelAnnotations']\n",
    "\n",
    "for label in labels:\n",
    "    print(label['description'], label['score'])"
   ]
  },
  {
   "cell_type": "code",
   "execution_count": null,
   "metadata": {},
   "outputs": [],
   "source": []
  }
 ],
 "metadata": {
  "kernelspec": {
   "display_name": "Python 3",
   "language": "python",
   "name": "python3"
  },
  "language_info": {
   "codemirror_mode": {
    "name": "ipython",
    "version": 3
   },
   "file_extension": ".py",
   "mimetype": "text/x-python",
   "name": "python",
   "nbconvert_exporter": "python",
   "pygments_lexer": "ipython3",
   "version": "3.6.6"
  }
 },
 "nbformat": 4,
 "nbformat_minor": 2
}
