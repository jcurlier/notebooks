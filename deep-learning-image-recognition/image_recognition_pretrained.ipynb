{
 "cells": [
  {
   "cell_type": "markdown",
   "metadata": {},
   "source": [
    "# Image Recognition Pre-trained\n",
    "\n",
    "<img src=\"images/bay.jpg\" width=\"500\"/>\n",
    "\n",
    "You can configure which pretrained model to use in the configuration section (default ResNet50)\n",
    "\n",
    "#### vgg16 result\n",
    "\n",
    "```\n",
    "Top predictions for this image:\n",
    "Prediction: seashore - 0.395213\n",
    "Prediction: promontory - 0.326129\n",
    "Prediction: lakeside - 0.119613\n",
    "Prediction: breakwater - 0.062801\n",
    "Prediction: sandbar - 0.045267\n",
    "```\n",
    "\n",
    "#### ResNet50 result\n",
    "\n",
    "```\n",
    "Top predictions for this image:\n",
    "Prediction: seashore - 0.482728\n",
    "Prediction: lakeside - 0.329963\n",
    "Prediction: dock - 0.105208\n",
    "Prediction: breakwater - 0.051779\n",
    "Prediction: promontory - 0.009503\n",
    "```\n",
    "\n",
    "### Libraries\n",
    "- http://www.numpy.org/\n",
    "- https://keras.io/\n",
    "- https://www.tensorflow.org/\n",
    "\n",
    "### Source\n",
    "- https://www.linkedin.com/learning/deep-learning-image-recognition"
   ]
  },
  {
   "cell_type": "code",
   "execution_count": 35,
   "metadata": {},
   "outputs": [],
   "source": [
    "# configuration\n",
    "USE_VGG16 = False\n",
    "USE_RESNET50 = not USE_VGG16"
   ]
  },
  {
   "cell_type": "code",
   "execution_count": 36,
   "metadata": {},
   "outputs": [],
   "source": [
    "# Libraries\n",
    "\n",
    "import numpy as np\n",
    "from keras.preprocessing import image"
   ]
  },
  {
   "cell_type": "code",
   "execution_count": 37,
   "metadata": {},
   "outputs": [],
   "source": [
    "# Use VGG16 pretrained model\n",
    "\n",
    "if USE_VGG16:\n",
    "    print('using vgg16 pre-trained model')\n",
    "    from keras.applications import vgg16 as trained_model\n",
    "    model = trained_model.VGG16()"
   ]
  },
  {
   "cell_type": "code",
   "execution_count": 38,
   "metadata": {},
   "outputs": [
    {
     "name": "stdout",
     "output_type": "stream",
     "text": [
      "using ResNet50 pre-trained model\n"
     ]
    }
   ],
   "source": [
    "# Use ResNet50 pretrained model\n",
    "\n",
    "if USE_RESNET50:\n",
    "    print('using ResNet50 pre-trained model')\n",
    "    from keras.applications import resnet50 as trained_model\n",
    "    model = trained_model.ResNet50()"
   ]
  },
  {
   "cell_type": "code",
   "execution_count": 39,
   "metadata": {},
   "outputs": [
    {
     "name": "stdout",
     "output_type": "stream",
     "text": [
      "Top predictions for this image:\n",
      "Prediction: seashore - 0.482728\n",
      "Prediction: lakeside - 0.329963\n",
      "Prediction: dock - 0.105208\n",
      "Prediction: breakwater - 0.051779\n",
      "Prediction: promontory - 0.009503\n"
     ]
    }
   ],
   "source": [
    "# Predict using the model\n",
    "\n",
    "# Load the image file, resizing it to 224x224 pixels (required by this model)\n",
    "img = image.load_img(\"images/bay.jpg\", target_size=(224, 224))\n",
    "\n",
    "# Convert the image to a numpy array\n",
    "x = image.img_to_array(img)\n",
    "\n",
    "# Add a fourth dimension (since Keras expects a list of images)\n",
    "x = np.expand_dims(x, axis=0)\n",
    "\n",
    "# Normalize the input image's pixel values to the range used when training the neural network\n",
    "x = trained_model.preprocess_input(x)\n",
    "\n",
    "# Run the image through the deep neural network to make a prediction\n",
    "predictions = model.predict(x)\n",
    "\n",
    "# Look up the names of the predicted classes. Index zero is the results for the first image.\n",
    "predicted_classes = vgg16.decode_predictions(predictions)\n",
    "\n",
    "print(\"Top predictions for this image:\")\n",
    "\n",
    "for imagenet_id, name, likelihood in predicted_classes[0]:\n",
    "    print(\"Prediction: {} - {:2f}\".format(name, likelihood))\n",
    "\n"
   ]
  }
 ],
 "metadata": {
  "kernelspec": {
   "display_name": "Python 3",
   "language": "python",
   "name": "python3"
  },
  "language_info": {
   "codemirror_mode": {
    "name": "ipython",
    "version": 3
   },
   "file_extension": ".py",
   "mimetype": "text/x-python",
   "name": "python",
   "nbconvert_exporter": "python",
   "pygments_lexer": "ipython3",
   "version": "3.6.6"
  }
 },
 "nbformat": 4,
 "nbformat_minor": 2
}
