{
 "cells": [
  {
   "cell_type": "markdown",
   "metadata": {},
   "source": [
    "# Movie Collaborative Recommender\n",
    "\n",
    "### Libraries\n",
    "- https://pandas.pydata.org/\n",
    "- http://www.numpy.org/\n",
    "- https://docs.python.org/3/library/pickle.html\n",
    "\n",
    "### Source\n",
    "- https://www.linkedin.com/learning/machine-learning-ai-foundations-recommendations"
   ]
  },
  {
   "cell_type": "code",
   "execution_count": 1,
   "metadata": {},
   "outputs": [],
   "source": [
    "# Configuration\n",
    "\n",
    "# user_id to get recommendations (Between 1 and 100):\")\n",
    "user_id_to_search = 1"
   ]
  },
  {
   "cell_type": "code",
   "execution_count": 2,
   "metadata": {},
   "outputs": [],
   "source": [
    "# Libraries\n",
    "\n",
    "import os\n",
    "import webbrowser\n",
    "import numpy as np\n",
    "import pandas as pd\n",
    "import pickle\n",
    "import matrix_factorization_utilities"
   ]
  },
  {
   "cell_type": "code",
   "execution_count": 3,
   "metadata": {},
   "outputs": [],
   "source": [
    "# Load data\n",
    "\n",
    "# Load user ratings\n",
    "raw_dataset_df = pd.read_csv('data/movie_ratings_data_set.csv')\n",
    "\n",
    "# Load movie titles\n",
    "movies_df = pd.read_csv('data/movies.csv', index_col='movie_id')\n",
    "\n",
    "# Convert the running list of user ratings into a matrix\n",
    "ratings_df = pd.pivot_table(raw_dataset_df, index='user_id',\n",
    "                            columns='movie_id',\n",
    "                            aggfunc=np.max)"
   ]
  },
  {
   "cell_type": "code",
   "execution_count": 4,
   "metadata": {},
   "outputs": [
    {
     "name": "stderr",
     "output_type": "stream",
     "text": [
      "/Library/Frameworks/Python.framework/Versions/3.6/lib/python3.6/site-packages/ipykernel_launcher.py:4: FutureWarning: Method .as_matrix will be removed in a future version. Use .values instead.\n",
      "  after removing the cwd from sys.path.\n"
     ]
    },
    {
     "name": "stdout",
     "output_type": "stream",
     "text": [
      "Warning: Maximum number of iterations has been exceeded.\n",
      "         Current function value: 32.504364\n",
      "         Iterations: 3000\n",
      "         Function evaluations: 4477\n",
      "         Gradient evaluations: 4477\n"
     ]
    }
   ],
   "source": [
    "# Build model\n",
    "\n",
    "# Apply matrix factorization to find the latent features\n",
    "U, M = matrix_factorization_utilities.low_rank_matrix_factorization(ratings_df.as_matrix(),\n",
    "                                                                    num_features=15,\n",
    "                                                                    regularization_amount=0.1)\n",
    "\n",
    "# Find all predicted ratings by multiplying U and M matrices\n",
    "predicted_ratings = np.matmul(U, M)\n",
    "\n",
    "# Save all the ratings to a csv file\n",
    "predicted_ratings_df = pd.DataFrame(index=ratings_df.index,\n",
    "                                    columns=ratings_df.columns,\n",
    "                                    data=predicted_ratings)\n",
    "predicted_ratings_df.to_csv(\"output/predicted_ratings.csv\")\n",
    "\n",
    "# Save features and predicted ratings to files for later use\n",
    "pickle.dump(U, open(\"models/user_features.dat\", \"wb\"))\n",
    "pickle.dump(M, open(\"models/product_features.dat\", \"wb\"))\n",
    "pickle.dump(predicted_ratings, open(\"models/predicted_ratings.dat\", \"wb\" ))\n"
   ]
  },
  {
   "cell_type": "code",
   "execution_count": 5,
   "metadata": {},
   "outputs": [
    {
     "name": "stdout",
     "output_type": "stream",
     "text": [
      "Movies previously reviewed by user_id 1:\n",
      "               title                  genre  value\n",
      "0      The Sheriff 4   crime drama, western      4\n",
      "1  Mafia Underground  crime drama, thriller      4\n",
      "2        Biker Gangs    crime drama, action      4\n",
      "3      The Sheriff 1   crime drama, western      4\n",
      "4     The Spy Family              spy drama      4\n",
      "5      The Sheriff 3   crime drama, western      5\n",
      "Movies we will recommend:\n",
      "                              title                  genre    rating\n",
      "movie_id                                                            \n",
      "34            The Serious Detective        detective drama  4.570281\n",
      "3                     The Sheriff 2   crime drama, western  4.155678\n",
      "6                 Attack on Earth 1         sci-fi, action  4.142751\n",
      "19        Fake News about Fake News         satire, comedy  4.119082\n",
      "8          Sci-Fi Murder Detectives  supernatural, mystery  4.066306\n"
     ]
    }
   ],
   "source": [
    "# Predict\n",
    "\n",
    "# Load prediction rules from data files\n",
    "U = pickle.load(open(\"models/user_features.dat\", \"rb\"))\n",
    "M = pickle.load(open(\"models/product_features.dat\", \"rb\"))\n",
    "predicted_ratings = pickle.load(open(\"models/predicted_ratings.dat\", \"rb\"))\n",
    "\n",
    "# Load movie titles\n",
    "movies_df = pd.read_csv('data/movies.csv', index_col='movie_id')\n",
    "\n",
    "print(\"Movies previously reviewed by user_id {}:\".format(user_id_to_search))\n",
    "\n",
    "reviewed_movies_df = raw_dataset_df[raw_dataset_df['user_id'] == user_id_to_search]\n",
    "reviewed_movies_df = reviewed_movies_df.join(movies_df, on='movie_id')\n",
    "\n",
    "print(reviewed_movies_df[['title', 'genre', 'value']])\n",
    "\n",
    "print(\"Movies we will recommend:\")\n",
    "\n",
    "user_ratings = predicted_ratings[user_id_to_search - 1]\n",
    "movies_df['rating'] = user_ratings\n",
    "\n",
    "already_reviewed = reviewed_movies_df['movie_id']\n",
    "recommended_df = movies_df[movies_df.index.isin(already_reviewed) == False]\n",
    "recommended_df = recommended_df.sort_values(by=['rating'], ascending=False)\n",
    "\n",
    "print(recommended_df[['title', 'genre', 'rating']].head(5))"
   ]
  },
  {
   "cell_type": "code",
   "execution_count": 6,
   "metadata": {},
   "outputs": [
    {
     "name": "stderr",
     "output_type": "stream",
     "text": [
      "/Library/Frameworks/Python.framework/Versions/3.6/lib/python3.6/site-packages/ipykernel_launcher.py:12: FutureWarning: Method .as_matrix will be removed in a future version. Use .values instead.\n",
      "  if sys.path[0] == '':\n"
     ]
    },
    {
     "name": "stdout",
     "output_type": "stream",
     "text": [
      "Optimization terminated successfully.\n",
      "         Current function value: 315.538580\n",
      "         Iterations: 875\n",
      "         Function evaluations: 1306\n",
      "         Gradient evaluations: 1306\n",
      "Training RMSE: 0.24952560869598406\n",
      "Testing RMSE: 1.2096509829672488\n"
     ]
    },
    {
     "name": "stderr",
     "output_type": "stream",
     "text": [
      "/Library/Frameworks/Python.framework/Versions/3.6/lib/python3.6/site-packages/ipykernel_launcher.py:20: FutureWarning: Method .as_matrix will be removed in a future version. Use .values instead.\n",
      "/Library/Frameworks/Python.framework/Versions/3.6/lib/python3.6/site-packages/ipykernel_launcher.py:22: FutureWarning: Method .as_matrix will be removed in a future version. Use .values instead.\n"
     ]
    }
   ],
   "source": [
    "# Mesure accuracy with training, testing datasets\n",
    "\n",
    "# Load user ratings\n",
    "raw_training_dataset_df = pd.read_csv('data/movie_ratings_data_set_training.csv')\n",
    "raw_testing_dataset_df = pd.read_csv('data/movie_ratings_data_set_testing.csv')\n",
    "\n",
    "# Convert the running list of user ratings into a matrix\n",
    "ratings_training_df = pd.pivot_table(raw_training_dataset_df, index='user_id', columns='movie_id', aggfunc=np.max)\n",
    "ratings_testing_df = pd.pivot_table(raw_testing_dataset_df, index='user_id', columns='movie_id', aggfunc=np.max)\n",
    "\n",
    "# Apply matrix factorization to find the latent features\n",
    "U, M = matrix_factorization_utilities.low_rank_matrix_factorization(ratings_training_df.as_matrix(),\n",
    "                                                                    num_features=11,\n",
    "                                                                    regularization_amount=1.1)\n",
    "\n",
    "# Find all predicted ratings by multiplying U and M\n",
    "predicted_ratings = np.matmul(U, M)\n",
    "\n",
    "# Measure RMSE\n",
    "rmse_training = matrix_factorization_utilities.RMSE(ratings_training_df.as_matrix(),\n",
    "                                                    predicted_ratings)\n",
    "rmse_testing = matrix_factorization_utilities.RMSE(ratings_testing_df.as_matrix(),\n",
    "                                                   predicted_ratings)\n",
    "\n",
    "print(\"Training RMSE: {}\".format(rmse_training))\n",
    "print(\"Testing RMSE: {}\".format(rmse_testing))\n"
   ]
  },
  {
   "cell_type": "code",
   "execution_count": 7,
   "metadata": {},
   "outputs": [
    {
     "data": {
      "text/plain": [
       "True"
      ]
     },
     "execution_count": 7,
     "metadata": {},
     "output_type": "execute_result"
    }
   ],
   "source": [
    "# Create a web page view of the data for easy viewing\n",
    "html = raw_dataset_df[0:100].to_html()\n",
    "\n",
    "# Save the html to a temporary file\n",
    "with open(\"output/data.html\", \"w\") as f:\n",
    "    f.write(html)\n",
    "\n",
    "# Open the web page in our web browser\n",
    "full_filename = os.path.abspath(\"output/data.html\")\n",
    "webbrowser.open(\"file://{}\".format(full_filename))"
   ]
  },
  {
   "cell_type": "code",
   "execution_count": 8,
   "metadata": {},
   "outputs": [
    {
     "data": {
      "text/plain": [
       "True"
      ]
     },
     "execution_count": 8,
     "metadata": {},
     "output_type": "execute_result"
    }
   ],
   "source": [
    "# Create a web page view of the movie list for easy viewing\n",
    "html = movies_df.to_html()\n",
    "\n",
    "# Save the html to a temporary file\n",
    "with open(\"output/movie_list.html\", \"w\") as f:\n",
    "    f.write(html)\n",
    "\n",
    "# Open the web page in our web browser\n",
    "full_filename = os.path.abspath(\"output/movie_list.html\")\n",
    "webbrowser.open(\"file://{}\".format(full_filename))"
   ]
  },
  {
   "cell_type": "code",
   "execution_count": 9,
   "metadata": {},
   "outputs": [
    {
     "data": {
      "text/plain": [
       "True"
      ]
     },
     "execution_count": 9,
     "metadata": {},
     "output_type": "execute_result"
    }
   ],
   "source": [
    "# Create a web page view of the review matrix for easy viewing\n",
    "html = ratings_df.to_html(na_rep=\"\")\n",
    "\n",
    "# Save the html to a temporary file\n",
    "with open(\"output/review_matrix.html\", \"w\") as f:\n",
    "    f.write(html)\n",
    "\n",
    "# Open the web page in our web browser\n",
    "full_filename = os.path.abspath(\"output/review_matrix.html\")\n",
    "webbrowser.open(\"file://{}\".format(full_filename))"
   ]
  },
  {
   "cell_type": "code",
   "execution_count": null,
   "metadata": {},
   "outputs": [],
   "source": []
  }
 ],
 "metadata": {
  "kernelspec": {
   "display_name": "Python 3",
   "language": "python",
   "name": "python3"
  },
  "language_info": {
   "codemirror_mode": {
    "name": "ipython",
    "version": 3
   },
   "file_extension": ".py",
   "mimetype": "text/x-python",
   "name": "python",
   "nbconvert_exporter": "python",
   "pygments_lexer": "ipython3",
   "version": "3.6.6"
  }
 },
 "nbformat": 4,
 "nbformat_minor": 2
}
