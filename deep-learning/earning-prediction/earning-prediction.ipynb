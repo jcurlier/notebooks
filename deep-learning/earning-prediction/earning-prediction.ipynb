{
 "cells": [
  {
   "cell_type": "markdown",
   "metadata": {},
   "source": [
    "# Earning Prediction\n",
    "\n",
    "### Libraries\n",
    "- https://pandas.pydata.org/\n",
    "- http://scikit-learn.org/stable/\n",
    "- https://keras.io/\n",
    "- https://www.tensorflow.org/\n",
    "\n",
    "### Source\n",
    "- https://www.linkedin.com/learning/building-deep-learning-applications-with-keras-2-0\n",
    "\n",
    "### Note\n",
    "- Ensure the same version is used locally and on Google cloud https://cloud.google.com/ml-engine/docs/tensorflow/runtime-version-list\n",
    "\n",
    "### To Do\n",
    "- Fix bew error Attempting to use uninitialized value output_layer_2/bias on gcloud"
   ]
  },
  {
   "cell_type": "code",
   "execution_count": 1,
   "metadata": {},
   "outputs": [],
   "source": [
    "# Configuration\n",
    "\n",
    "RUN_NAME = \"run 1 with 50 nodes\""
   ]
  },
  {
   "cell_type": "code",
   "execution_count": 2,
   "metadata": {},
   "outputs": [
    {
     "name": "stderr",
     "output_type": "stream",
     "text": [
      "Using TensorFlow backend.\n"
     ]
    }
   ],
   "source": [
    "# Libraries\n",
    "\n",
    "import pandas as pd\n",
    "from sklearn.preprocessing import MinMaxScaler\n",
    "from pathlib import Path\n",
    "import shutil\n",
    "\n",
    "import keras\n",
    "from keras.models import Sequential\n",
    "from keras.layers import *\n",
    "from keras.models import load_model\n",
    "from keras import backend as K\n",
    "\n",
    "import tensorflow as tf"
   ]
  },
  {
   "cell_type": "code",
   "execution_count": 3,
   "metadata": {},
   "outputs": [
    {
     "name": "stdout",
     "output_type": "stream",
     "text": [
      "Note: total_earnings values were scaled by multiplying by 0.0000036968 and adding -0.115913\n"
     ]
    },
    {
     "name": "stderr",
     "output_type": "stream",
     "text": [
      "/Library/Frameworks/Python.framework/Versions/3.6/lib/python3.6/site-packages/sklearn/preprocessing/data.py:323: DataConversionWarning: Data with input dtype int64, float64 were all converted to float64 by MinMaxScaler.\n",
      "  return self.partial_fit(X, y)\n"
     ]
    }
   ],
   "source": [
    "# Load and transform data\n",
    "\n",
    "# Load training data set from CSV file\n",
    "training_data_df = pd.read_csv(\"data/sales_data_training.csv\")\n",
    "\n",
    "# Load testing data set from CSV file\n",
    "test_data_df = pd.read_csv(\"data/sales_data_test.csv\")\n",
    "\n",
    "# Data needs to be scaled to a small range like 0 to 1 for the neural\n",
    "# network to work well.\n",
    "scaler = MinMaxScaler(feature_range=(0, 1))\n",
    "\n",
    "# Scale both the training inputs and outputs\n",
    "scaled_training = scaler.fit_transform(training_data_df)\n",
    "scaled_testing = scaler.transform(test_data_df)\n",
    "\n",
    "# Print out the adjustment that the scaler applied to the total_earnings column of data\n",
    "print(\"Note: total_earnings values were scaled by multiplying by {:.10f} and adding {:.6f}\"\n",
    "      .format(scaler.scale_[8], scaler.min_[8]))\n",
    "\n",
    "# Create new pandas DataFrame objects from the scaled data\n",
    "scaled_training_df = pd.DataFrame(scaled_training, columns=training_data_df.columns.values)\n",
    "scaled_testing_df = pd.DataFrame(scaled_testing, columns=test_data_df.columns.values)\n",
    "\n",
    "# Save scaled data dataframes to new CSV files\n",
    "scaled_training_df.to_csv(\"data/sales_data_training_scaled.csv\", index=False)\n",
    "scaled_testing_df.to_csv(\"data/sales_data_testing_scaled.csv\", index=False)"
   ]
  },
  {
   "cell_type": "code",
   "execution_count": 4,
   "metadata": {},
   "outputs": [],
   "source": [
    "# Build the model\n",
    "\n",
    "model = Sequential()\n",
    "model.add(Dense(50, input_dim=9, activation='relu', name='layer_1'))\n",
    "model.add(Dense(100, activation='relu', name='layer_2'))\n",
    "model.add(Dense(50, activation='relu', name='layer_3'))\n",
    "model.add(Dense(1, activation='linear', name='output_layer'))\n",
    "model.compile(loss='mean_squared_error', optimizer='adam')"
   ]
  },
  {
   "cell_type": "code",
   "execution_count": 5,
   "metadata": {},
   "outputs": [
    {
     "name": "stdout",
     "output_type": "stream",
     "text": [
      "Train on 1000 samples, validate on 400 samples\n",
      "Epoch 1/50\n",
      " - 0s - loss: 0.0427 - val_loss: 0.0167\n",
      "Epoch 2/50\n",
      " - 0s - loss: 0.0083 - val_loss: 0.0036\n",
      "Epoch 3/50\n",
      " - 0s - loss: 0.0023 - val_loss: 0.0012\n",
      "Epoch 4/50\n",
      " - 0s - loss: 9.2786e-04 - val_loss: 6.0168e-04\n",
      "Epoch 5/50\n",
      " - 0s - loss: 4.7653e-04 - val_loss: 3.4027e-04\n",
      "Epoch 6/50\n",
      " - 0s - loss: 2.8334e-04 - val_loss: 2.0834e-04\n",
      "Epoch 7/50\n",
      " - 0s - loss: 1.8747e-04 - val_loss: 1.8184e-04\n",
      "Epoch 8/50\n",
      " - 0s - loss: 1.3083e-04 - val_loss: 1.4171e-04\n",
      "Epoch 9/50\n",
      " - 0s - loss: 1.0029e-04 - val_loss: 1.3539e-04\n",
      "Epoch 10/50\n",
      " - 0s - loss: 8.4134e-05 - val_loss: 1.3759e-04\n",
      "Epoch 11/50\n",
      " - 0s - loss: 7.3133e-05 - val_loss: 1.1303e-04\n",
      "Epoch 12/50\n",
      " - 0s - loss: 6.3734e-05 - val_loss: 1.1112e-04\n",
      "Epoch 13/50\n",
      " - 0s - loss: 5.6183e-05 - val_loss: 1.1090e-04\n",
      "Epoch 14/50\n",
      " - 0s - loss: 5.2346e-05 - val_loss: 1.1024e-04\n",
      "Epoch 15/50\n",
      " - 0s - loss: 5.0324e-05 - val_loss: 9.7113e-05\n",
      "Epoch 16/50\n",
      " - 0s - loss: 3.9727e-05 - val_loss: 8.8845e-05\n",
      "Epoch 17/50\n",
      " - 0s - loss: 3.6742e-05 - val_loss: 9.1754e-05\n",
      "Epoch 18/50\n",
      " - 0s - loss: 3.3927e-05 - val_loss: 9.2729e-05\n",
      "Epoch 19/50\n",
      " - 0s - loss: 3.2819e-05 - val_loss: 8.2300e-05\n",
      "Epoch 20/50\n",
      " - 0s - loss: 3.0576e-05 - val_loss: 7.9392e-05\n",
      "Epoch 21/50\n",
      " - 0s - loss: 3.0082e-05 - val_loss: 8.1903e-05\n",
      "Epoch 22/50\n",
      " - 0s - loss: 2.7799e-05 - val_loss: 9.0775e-05\n",
      "Epoch 23/50\n",
      " - 0s - loss: 2.9226e-05 - val_loss: 1.1207e-04\n",
      "Epoch 24/50\n",
      " - 0s - loss: 3.1126e-05 - val_loss: 9.5404e-05\n",
      "Epoch 25/50\n",
      " - 0s - loss: 2.9313e-05 - val_loss: 7.6163e-05\n",
      "Epoch 26/50\n",
      " - 0s - loss: 2.3402e-05 - val_loss: 8.1281e-05\n",
      "Epoch 27/50\n",
      " - 0s - loss: 2.4915e-05 - val_loss: 8.1671e-05\n",
      "Epoch 28/50\n",
      " - 0s - loss: 2.2082e-05 - val_loss: 7.6672e-05\n",
      "Epoch 29/50\n",
      " - 0s - loss: 2.1522e-05 - val_loss: 8.9046e-05\n",
      "Epoch 30/50\n",
      " - 0s - loss: 2.2204e-05 - val_loss: 7.5690e-05\n",
      "Epoch 31/50\n",
      " - 0s - loss: 2.2741e-05 - val_loss: 7.2681e-05\n",
      "Epoch 32/50\n",
      " - 0s - loss: 2.0080e-05 - val_loss: 7.4931e-05\n",
      "Epoch 33/50\n",
      " - 0s - loss: 2.1273e-05 - val_loss: 6.9465e-05\n",
      "Epoch 34/50\n",
      " - 0s - loss: 1.7134e-05 - val_loss: 7.3140e-05\n",
      "Epoch 35/50\n",
      " - 0s - loss: 2.0083e-05 - val_loss: 7.9179e-05\n",
      "Epoch 36/50\n",
      " - 0s - loss: 1.9660e-05 - val_loss: 7.2904e-05\n",
      "Epoch 37/50\n",
      " - 0s - loss: 1.9630e-05 - val_loss: 8.0501e-05\n",
      "Epoch 38/50\n",
      " - 0s - loss: 2.4485e-05 - val_loss: 7.6143e-05\n",
      "Epoch 39/50\n",
      " - 0s - loss: 3.0184e-05 - val_loss: 7.4864e-05\n",
      "Epoch 40/50\n",
      " - 0s - loss: 1.7740e-05 - val_loss: 7.1025e-05\n",
      "Epoch 41/50\n",
      " - 0s - loss: 1.9455e-05 - val_loss: 9.7482e-05\n",
      "Epoch 42/50\n",
      " - 0s - loss: 1.9991e-05 - val_loss: 8.1824e-05\n",
      "Epoch 43/50\n",
      " - 0s - loss: 2.2526e-05 - val_loss: 8.7001e-05\n",
      "Epoch 44/50\n",
      " - 0s - loss: 2.0836e-05 - val_loss: 7.8352e-05\n",
      "Epoch 45/50\n",
      " - 0s - loss: 2.1930e-05 - val_loss: 9.3610e-05\n",
      "Epoch 46/50\n",
      " - 0s - loss: 2.4466e-05 - val_loss: 7.6976e-05\n",
      "Epoch 47/50\n",
      " - 0s - loss: 2.1712e-05 - val_loss: 7.6105e-05\n",
      "Epoch 48/50\n",
      " - 0s - loss: 1.7145e-05 - val_loss: 7.0372e-05\n",
      "Epoch 49/50\n",
      " - 0s - loss: 2.2523e-05 - val_loss: 7.7954e-05\n",
      "Epoch 50/50\n",
      " - 0s - loss: 1.7309e-05 - val_loss: 7.4352e-05\n"
     ]
    }
   ],
   "source": [
    "# Train the model\n",
    "\n",
    "# Load the training data set\n",
    "scaled_training_df = pd.read_csv(\"data/sales_data_training_scaled.csv\")\n",
    "X = scaled_training_df.drop('total_earnings', axis=1).values\n",
    "Y = scaled_training_df[['total_earnings']].values\n",
    "\n",
    "# Load the separate test data set\n",
    "scaled_testing_df = pd.read_csv(\"data/sales_data_testing_scaled.csv\")\n",
    "X_test = scaled_testing_df.drop('total_earnings', axis=1).values\n",
    "Y_test = scaled_testing_df[['total_earnings']].values\n",
    "\n",
    "# Delete the folder directory\n",
    "shutil.rmtree(Path('logs/{}'.format(RUN_NAME)))\n",
    "\n",
    "# Create a TensorBoard logger\n",
    "logger = keras.callbacks.TensorBoard(\n",
    "    log_dir='logs/{}'.format(RUN_NAME),\n",
    "    histogram_freq=5,\n",
    "    write_graph=True\n",
    ")\n",
    "\n",
    "# Train the model\n",
    "model.fit(\n",
    "    X,\n",
    "    Y,\n",
    "    epochs=50,\n",
    "    shuffle=True,\n",
    "    verbose=2,\n",
    "    callbacks=[logger],\n",
    "    validation_data=(X_test, Y_test)\n",
    ")\n",
    "\n",
    "# Save the model to disk\n",
    "model.save(\"models/trained_model.h5\")"
   ]
  },
  {
   "cell_type": "code",
   "execution_count": 6,
   "metadata": {},
   "outputs": [
    {
     "name": "stdout",
     "output_type": "stream",
     "text": [
      "Earnings Prediction for Proposed Product - $265202.03809678555\n"
     ]
    }
   ],
   "source": [
    "# Local predict\n",
    "\n",
    "prediction_model = load_model('models/trained_model.h5')\n",
    "\n",
    "X = pd.read_csv(\"data/proposed_new_product.csv\").values\n",
    "\n",
    "prediction = prediction_model.predict(X)\n",
    "\n",
    "# Grab just the first element of the first prediction (since we only have one)\n",
    "prediction = prediction[0][0]\n",
    "\n",
    "# Re-scale the data from the 0-to-1 range back to dollars\n",
    "# These constants are from when the data was originally scaled down to the 0-to-1 range\n",
    "prediction = prediction - scaler.min_[8]\n",
    "prediction = prediction / scaler.scale_[8]\n",
    "\n",
    "print(\"Earnings Prediction for Proposed Product - ${}\".format(prediction))"
   ]
  },
  {
   "cell_type": "code",
   "execution_count": 7,
   "metadata": {},
   "outputs": [
    {
     "name": "stdout",
     "output_type": "stream",
     "text": [
      "INFO:tensorflow:No assets to save.\n",
      "INFO:tensorflow:No assets to write.\n",
      "INFO:tensorflow:SavedModel written to: models/exported_model/saved_model.pb\n"
     ]
    },
    {
     "data": {
      "text/plain": [
       "b'models/exported_model/saved_model.pb'"
      ]
     },
     "execution_count": 7,
     "metadata": {},
     "output_type": "execute_result"
    }
   ],
   "source": [
    "# Export model\n",
    "\n",
    "sess = K.get_session()\n",
    "\n",
    "prediction_model = load_model('models/trained_model.h5')\n",
    "\n",
    "# Delete the existing folder (if there)\n",
    "shutil.rmtree(Path('models/exported_model'))\n",
    "    \n",
    "inputs = {\n",
    "    'input': tf.saved_model.utils.build_tensor_info(prediction_model.input)\n",
    "}\n",
    "outputs = {\n",
    "    'earnings': tf.saved_model.utils.build_tensor_info(prediction_model.output)\n",
    "}\n",
    "\n",
    "signature_def = tf.saved_model.signature_def_utils.build_signature_def(\n",
    "    inputs=inputs,\n",
    "    outputs=outputs,\n",
    "    method_name=tf.saved_model.signature_constants.PREDICT_METHOD_NAME\n",
    ")\n",
    "\n",
    "model_builder = tf.saved_model.builder.SavedModelBuilder(\"models/exported_model\")\n",
    "\n",
    "model_builder.add_meta_graph_and_variables(\n",
    "    sess=sess,\n",
    "    tags=[tf.saved_model.tag_constants.SERVING],\n",
    "    signature_def_map={ tf.saved_model.signature_constants.DEFAULT_SERVING_SIGNATURE_DEF_KEY: signature_def}\n",
    ")\n",
    "\n",
    "model_builder.save()"
   ]
  },
  {
   "cell_type": "code",
   "execution_count": 10,
   "metadata": {},
   "outputs": [
    {
     "name": "stdout",
     "output_type": "stream",
     "text": [
      "Creating gs://earning-prediction-1000/...\n",
      "Copying file://models/exported_model/saved_model.pb [Content-Type=application/octet-stream]...\n",
      "Copying file://models/exported_model/variables/variables.data-00000-of-00001 [Content-Type=application/octet-stream]...\n",
      "Copying file://models/exported_model/variables/variables.index [Content-Type=application/octet-stream]...\n",
      "\\ [3 files][753.5 KiB/753.5 KiB]                                                \n",
      "Operation completed over 3 objects/753.5 KiB.                                    \n",
      "Created ml engine model [projects/gde-core-dev/models/earnings].\n",
      "Creating version (this might take a few minutes)......done.                    \n"
     ]
    }
   ],
   "source": [
    "# Upload the model to Google cloud\n",
    "\n",
    "# Make the bucket\n",
    "!gsutil mb -l us-central1 gs://earning-prediction-1000 \n",
    "!gsutil cp -R models/exported_model/* gs://earning-prediction-1000/earnings_v1\n",
    "    \n",
    "# Create the gcloud model\n",
    "!gcloud ml-engine models create earnings --regions us-central1\n",
    "!gcloud ml-engine versions create v1 --model=earnings --origin=gs://earning-prediction-1000/earnings_v1/ --runtime-version=1.11"
   ]
  },
  {
   "cell_type": "code",
   "execution_count": 11,
   "metadata": {},
   "outputs": [
    {
     "name": "stdout",
     "output_type": "stream",
     "text": [
      "{\r\n",
      "  \"error\": \"Prediction failed: Error during model execution: AbortionError(code=StatusCode.FAILED_PRECONDITION, details=\\\"Attempting to use uninitialized value output_layer_2/bias\\n\\t [[{{node output_layer_2/bias/read}} = Identity[T=DT_FLOAT, _output_shapes=[[1]], _device=\\\"/job:localhost/replica:0/task:0/device:CPU:0\\\"](output_layer_2/bias)]]\\\")\"\r\n",
      "}\r\n"
     ]
    }
   ],
   "source": [
    "# Predict from Google cloud using gcloud\n",
    "\n",
    "!gcloud ml-engine predict --model=earnings --json-instances=sample_input_prescaled.json"
   ]
  },
  {
   "cell_type": "code",
   "execution_count": 12,
   "metadata": {},
   "outputs": [
    {
     "ename": "RuntimeError",
     "evalue": "Prediction failed: Error during model execution: AbortionError(code=StatusCode.FAILED_PRECONDITION, details=\"Attempting to use uninitialized value output_layer_2/bias\n\t [[{{node output_layer_2/bias/read}} = Identity[T=DT_FLOAT, _output_shapes=[[1]], _device=\"/job:localhost/replica:0/task:0/device:CPU:0\"](output_layer_2/bias)]]\")",
     "output_type": "error",
     "traceback": [
      "\u001b[0;31m---------------------------------------------------------------------------\u001b[0m",
      "\u001b[0;31mRuntimeError\u001b[0m                              Traceback (most recent call last)",
      "\u001b[0;32m<ipython-input-12-4d4fb139e90a>\u001b[0m in \u001b[0;36m<module>\u001b[0;34m()\u001b[0m\n\u001b[1;32m     27\u001b[0m \u001b[0;31m# Report any errors\u001b[0m\u001b[0;34m\u001b[0m\u001b[0;34m\u001b[0m\u001b[0m\n\u001b[1;32m     28\u001b[0m \u001b[0;32mif\u001b[0m \u001b[0;34m'error'\u001b[0m \u001b[0;32min\u001b[0m \u001b[0mresponse\u001b[0m\u001b[0;34m:\u001b[0m\u001b[0;34m\u001b[0m\u001b[0m\n\u001b[0;32m---> 29\u001b[0;31m     \u001b[0;32mraise\u001b[0m \u001b[0mRuntimeError\u001b[0m\u001b[0;34m(\u001b[0m\u001b[0mresponse\u001b[0m\u001b[0;34m[\u001b[0m\u001b[0;34m'error'\u001b[0m\u001b[0;34m]\u001b[0m\u001b[0;34m)\u001b[0m\u001b[0;34m\u001b[0m\u001b[0m\n\u001b[0m\u001b[1;32m     30\u001b[0m \u001b[0;34m\u001b[0m\u001b[0m\n\u001b[1;32m     31\u001b[0m \u001b[0;31m# Grab the results from the response object\u001b[0m\u001b[0;34m\u001b[0m\u001b[0;34m\u001b[0m\u001b[0m\n",
      "\u001b[0;31mRuntimeError\u001b[0m: Prediction failed: Error during model execution: AbortionError(code=StatusCode.FAILED_PRECONDITION, details=\"Attempting to use uninitialized value output_layer_2/bias\n\t [[{{node output_layer_2/bias/read}} = Identity[T=DT_FLOAT, _output_shapes=[[1]], _device=\"/job:localhost/replica:0/task:0/device:CPU:0\"](output_layer_2/bias)]]\")"
     ]
    }
   ],
   "source": [
    "# Predict from Google cloud using SDK\n",
    "\n",
    "from oauth2client.client import GoogleCredentials\n",
    "import googleapiclient.discovery\n",
    "\n",
    "# Change this values to match your project\n",
    "PROJECT_ID = \"gde-core-dev\"\n",
    "MODEL_NAME = \"earnings\"\n",
    "CREDENTIALS_FILE = \"security/credentials.json\"\n",
    "\n",
    "# These are the values we want a prediction for\n",
    "inputs_for_prediction = [\n",
    "    {\"input\": [0.4999, 1.0, 0.0, 1.0, 0.0, 0.0, 0.0, 0.0, 0.5]}\n",
    "]\n",
    "\n",
    "# Connect to the Google Cloud-ML Service\n",
    "credentials = GoogleCredentials.from_stream(CREDENTIALS_FILE)\n",
    "service = googleapiclient.discovery.build('ml', 'v1', credentials=credentials)\n",
    "\n",
    "# Connect to our Prediction Model\n",
    "name = 'projects/{}/models/{}'.format(PROJECT_ID, MODEL_NAME)\n",
    "response = service.projects().predict(\n",
    "    name=name,\n",
    "    body={'instances': inputs_for_prediction}\n",
    ").execute()\n",
    "\n",
    "# Report any errors\n",
    "if 'error' in response:\n",
    "    raise RuntimeError(response['error'])\n",
    "\n",
    "# Grab the results from the response object\n",
    "results = response['predictions']\n",
    "\n",
    "# Print the results!\n",
    "print(results)"
   ]
  },
  {
   "cell_type": "code",
   "execution_count": 13,
   "metadata": {},
   "outputs": [
    {
     "name": "stdout",
     "output_type": "stream",
     "text": [
      "Deleting version [v1]......done.                                               \n",
      "Deleting model [earnings]...done.                                              \n",
      "Removing gs://earning-prediction-1000/earnings_v1/saved_model.pb#1539153861043454...\n",
      "Removing gs://earning-prediction-1000/earnings_v1/variables.data-00000-of-00001#1539153861686707...\n",
      "Removing gs://earning-prediction-1000/earnings_v1/variables.index#1539153861964947...\n",
      "/ [3/3 objects] 100% Done                                                       \n",
      "Operation completed over 3 objects.                                              \n",
      "Removing gs://earning-prediction-1000/...\n"
     ]
    }
   ],
   "source": [
    "# Delete the model from Google cloud\n",
    "    \n",
    "# Remove the model\n",
    "!gcloud ml-engine versions delete v1 --model=earnings --quiet\n",
    "!gcloud ml-engine models delete earnings --quiet\n",
    "\n",
    "# Remove the bucket\n",
    "!gsutil -m rm -r gs://earning-prediction-1000 "
   ]
  },
  {
   "cell_type": "code",
   "execution_count": 14,
   "metadata": {},
   "outputs": [
    {
     "name": "stdout",
     "output_type": "stream",
     "text": [
      "TensorBoard 1.11.0 at http://Jeromes-MBP.hitronhub.home:6006 (Press CTRL+C to quit)\n",
      "^C\n"
     ]
    }
   ],
   "source": [
    "# Visualize the log\n",
    "\n",
    "# Note: Stop once done\n",
    "!tensorboard --logdir=./logs"
   ]
  },
  {
   "cell_type": "code",
   "execution_count": 15,
   "metadata": {},
   "outputs": [
    {
     "name": "stdout",
     "output_type": "stream",
     "text": [
      "\r\n",
      "MetaGraphDef with tag-set: 'serve' contains the following SignatureDefs:\r\n",
      "\r\n",
      "signature_def['serving_default']:\r\n",
      "  The given SavedModel SignatureDef contains the following input(s):\r\n",
      "    inputs['input'] tensor_info:\r\n",
      "        dtype: DT_FLOAT\r\n",
      "        shape: (-1, 9)\r\n",
      "        name: layer_1_input_2:0\r\n",
      "  The given SavedModel SignatureDef contains the following output(s):\r\n",
      "    outputs['earnings'] tensor_info:\r\n",
      "        dtype: DT_FLOAT\r\n",
      "        shape: (-1, 1)\r\n",
      "        name: output_layer_2/BiasAdd:0\r\n",
      "  Method name is: tensorflow/serving/predict\r\n"
     ]
    }
   ],
   "source": [
    "# Check the model signature with saved_model_cli\n",
    "\n",
    "!saved_model_cli show --dir ./models/exported_model  --all"
   ]
  },
  {
   "cell_type": "code",
   "execution_count": 16,
   "metadata": {},
   "outputs": [
    {
     "name": "stdout",
     "output_type": "stream",
     "text": [
      "Result for output key earnings:\r\n",
      "[[0.17232177]]\r\n"
     ]
    }
   ],
   "source": [
    "# Test prediction with saved_model_cli\n",
    "\n",
    "!saved_model_cli run --dir ./models/exported_model --tag_set serve --signature_def serving_default --input_exprs 'input=[[0.499, 1.0, 0.0, 1.0, 0.0, 0.0, 0.0, 0.0, 0.5]]'"
   ]
  },
  {
   "cell_type": "code",
   "execution_count": null,
   "metadata": {},
   "outputs": [],
   "source": []
  }
 ],
 "metadata": {
  "kernelspec": {
   "display_name": "Python 3",
   "language": "python",
   "name": "python3"
  },
  "language_info": {
   "codemirror_mode": {
    "name": "ipython",
    "version": 3
   },
   "file_extension": ".py",
   "mimetype": "text/x-python",
   "name": "python",
   "nbconvert_exporter": "python",
   "pygments_lexer": "ipython3",
   "version": "3.6.6"
  }
 },
 "nbformat": 4,
 "nbformat_minor": 2
}
