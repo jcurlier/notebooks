{
 "cells": [
  {
   "cell_type": "markdown",
   "metadata": {},
   "source": [
    "# Earning Prediction using Keras\n",
    "\n",
    "### Libraries\n",
    "- https://pandas.pydata.org/\n",
    "- http://scikit-learn.org/stable/\n",
    "- https://keras.io/\n",
    "- https://www.tensorflow.org/\n",
    "\n",
    "### Source\n",
    "- https://www.linkedin.com/learning/building-deep-learning-applications-with-keras-2-0\n",
    "\n",
    "### Note\n",
    "- Ensure the same version is used locally and on Google cloud https://cloud.google.com/ml-engine/docs/tensorflow/runtime-version-list\n",
    "\n",
    "### To Do\n",
    "- Fix bew error Attempting to use uninitialized value output_layer_2/bias on gcloud"
   ]
  },
  {
   "cell_type": "code",
   "execution_count": 1,
   "metadata": {},
   "outputs": [],
   "source": [
    "# Configuration\n",
    "\n",
    "RUN_NAME = \"keras run 1 with 50 nodes\""
   ]
  },
  {
   "cell_type": "code",
   "execution_count": 2,
   "metadata": {},
   "outputs": [
    {
     "name": "stderr",
     "output_type": "stream",
     "text": [
      "Using TensorFlow backend.\n"
     ]
    }
   ],
   "source": [
    "# Libraries\n",
    "\n",
    "import pandas as pd\n",
    "from sklearn.preprocessing import MinMaxScaler\n",
    "from pathlib import Path\n",
    "import shutil\n",
    "\n",
    "import keras\n",
    "from keras.models import Sequential\n",
    "from keras.layers import *\n",
    "from keras.models import load_model\n",
    "from keras import backend as K\n",
    "\n",
    "import tensorflow as tf"
   ]
  },
  {
   "cell_type": "code",
   "execution_count": 3,
   "metadata": {},
   "outputs": [
    {
     "name": "stdout",
     "output_type": "stream",
     "text": [
      "Note: total_earnings values were scaled by multiplying by 0.0000036968 and adding -0.115913\n"
     ]
    },
    {
     "name": "stderr",
     "output_type": "stream",
     "text": [
      "/Library/Frameworks/Python.framework/Versions/3.6/lib/python3.6/site-packages/sklearn/preprocessing/data.py:323: DataConversionWarning: Data with input dtype int64, float64 were all converted to float64 by MinMaxScaler.\n",
      "  return self.partial_fit(X, y)\n"
     ]
    }
   ],
   "source": [
    "# Load and transform data\n",
    "\n",
    "# Load training data set from CSV file\n",
    "training_data_df = pd.read_csv(\"data/sales_data_training.csv\")\n",
    "\n",
    "# Load testing data set from CSV file\n",
    "test_data_df = pd.read_csv(\"data/sales_data_test.csv\")\n",
    "\n",
    "# Data needs to be scaled to a small range like 0 to 1 for the neural\n",
    "# network to work well.\n",
    "scaler = MinMaxScaler(feature_range=(0, 1))\n",
    "\n",
    "# Scale both the training inputs and outputs\n",
    "scaled_training = scaler.fit_transform(training_data_df)\n",
    "scaled_testing = scaler.transform(test_data_df)\n",
    "\n",
    "# Print out the adjustment that the scaler applied to the total_earnings column of data\n",
    "print(\"Note: total_earnings values were scaled by multiplying by {:.10f} and adding {:.6f}\"\n",
    "      .format(scaler.scale_[8], scaler.min_[8]))\n",
    "\n",
    "# Create new pandas DataFrame objects from the scaled data\n",
    "scaled_training_df = pd.DataFrame(scaled_training, columns=training_data_df.columns.values)\n",
    "scaled_testing_df = pd.DataFrame(scaled_testing, columns=test_data_df.columns.values)\n",
    "\n",
    "# Save scaled data dataframes to new CSV files\n",
    "scaled_training_df.to_csv(\"output/sales_data_training_scaled.csv\", index=False)\n",
    "scaled_testing_df.to_csv(\"output/sales_data_testing_scaled.csv\", index=False)"
   ]
  },
  {
   "cell_type": "code",
   "execution_count": 4,
   "metadata": {},
   "outputs": [],
   "source": [
    "# Build the model\n",
    "\n",
    "model = Sequential()\n",
    "model.add(Dense(50, input_dim=9, activation='relu', name='layer_1'))\n",
    "model.add(Dense(100, activation='relu', name='layer_2'))\n",
    "model.add(Dense(50, activation='relu', name='layer_3'))\n",
    "model.add(Dense(1, activation='linear', name='output_layer'))\n",
    "model.compile(loss='mean_squared_error', optimizer='adam')"
   ]
  },
  {
   "cell_type": "code",
   "execution_count": 5,
   "metadata": {},
   "outputs": [
    {
     "name": "stdout",
     "output_type": "stream",
     "text": [
      "Train on 1000 samples, validate on 400 samples\n",
      "Epoch 1/50\n",
      " - 0s - loss: 0.0138 - val_loss: 0.0032\n",
      "Epoch 2/50\n",
      " - 0s - loss: 0.0018 - val_loss: 0.0011\n",
      "Epoch 3/50\n",
      " - 0s - loss: 7.4414e-04 - val_loss: 6.1392e-04\n",
      "Epoch 4/50\n",
      " - 0s - loss: 3.5898e-04 - val_loss: 4.4606e-04\n",
      "Epoch 5/50\n",
      " - 0s - loss: 2.2264e-04 - val_loss: 3.2210e-04\n",
      "Epoch 6/50\n",
      " - 0s - loss: 1.4841e-04 - val_loss: 2.4689e-04\n",
      "Epoch 7/50\n",
      " - 0s - loss: 1.1575e-04 - val_loss: 2.6399e-04\n",
      "Epoch 8/50\n",
      " - 0s - loss: 1.0861e-04 - val_loss: 2.2727e-04\n",
      "Epoch 9/50\n",
      " - 0s - loss: 9.1979e-05 - val_loss: 2.1731e-04\n",
      "Epoch 10/50\n",
      " - 0s - loss: 7.2851e-05 - val_loss: 1.9079e-04\n",
      "Epoch 11/50\n",
      " - 0s - loss: 7.3330e-05 - val_loss: 2.0283e-04\n",
      "Epoch 12/50\n",
      " - 0s - loss: 6.5072e-05 - val_loss: 1.5248e-04\n",
      "Epoch 13/50\n",
      " - 0s - loss: 5.5672e-05 - val_loss: 2.1177e-04\n",
      "Epoch 14/50\n",
      " - 0s - loss: 6.5066e-05 - val_loss: 1.6028e-04\n",
      "Epoch 15/50\n",
      " - 0s - loss: 5.7884e-05 - val_loss: 1.5082e-04\n",
      "Epoch 16/50\n",
      " - 0s - loss: 4.1502e-05 - val_loss: 1.4908e-04\n",
      "Epoch 17/50\n",
      " - 0s - loss: 3.8625e-05 - val_loss: 1.2876e-04\n",
      "Epoch 18/50\n",
      " - 0s - loss: 3.4955e-05 - val_loss: 1.4200e-04\n",
      "Epoch 19/50\n",
      " - 0s - loss: 3.6008e-05 - val_loss: 1.1639e-04\n",
      "Epoch 20/50\n",
      " - 0s - loss: 3.4260e-05 - val_loss: 1.1230e-04\n",
      "Epoch 21/50\n",
      " - 0s - loss: 3.3512e-05 - val_loss: 1.5106e-04\n",
      "Epoch 22/50\n",
      " - 0s - loss: 3.1877e-05 - val_loss: 1.3019e-04\n",
      "Epoch 23/50\n",
      " - 0s - loss: 3.8128e-05 - val_loss: 1.0144e-04\n",
      "Epoch 24/50\n",
      " - 0s - loss: 4.3487e-05 - val_loss: 1.0961e-04\n",
      "Epoch 25/50\n",
      " - 0s - loss: 3.2933e-05 - val_loss: 1.0488e-04\n",
      "Epoch 26/50\n",
      " - 0s - loss: 2.7476e-05 - val_loss: 1.0096e-04\n",
      "Epoch 27/50\n",
      " - 0s - loss: 3.3123e-05 - val_loss: 1.1294e-04\n",
      "Epoch 28/50\n",
      " - 0s - loss: 3.0928e-05 - val_loss: 1.1448e-04\n",
      "Epoch 29/50\n",
      " - 0s - loss: 5.9537e-05 - val_loss: 1.1459e-04\n",
      "Epoch 30/50\n",
      " - 0s - loss: 4.1185e-05 - val_loss: 1.0986e-04\n",
      "Epoch 31/50\n",
      " - 0s - loss: 2.5808e-05 - val_loss: 1.0217e-04\n",
      "Epoch 32/50\n",
      " - 0s - loss: 3.1912e-05 - val_loss: 1.0997e-04\n",
      "Epoch 33/50\n",
      " - 0s - loss: 5.7663e-05 - val_loss: 1.6082e-04\n",
      "Epoch 34/50\n",
      " - 0s - loss: 4.9692e-05 - val_loss: 1.1501e-04\n",
      "Epoch 35/50\n",
      " - 0s - loss: 5.7127e-05 - val_loss: 9.7050e-05\n",
      "Epoch 36/50\n",
      " - 0s - loss: 3.3626e-05 - val_loss: 1.0832e-04\n",
      "Epoch 37/50\n",
      " - 0s - loss: 3.8611e-05 - val_loss: 1.0604e-04\n",
      "Epoch 38/50\n",
      " - 0s - loss: 3.9415e-05 - val_loss: 1.0467e-04\n",
      "Epoch 39/50\n",
      " - 0s - loss: 3.3181e-05 - val_loss: 1.2000e-04\n",
      "Epoch 40/50\n",
      " - 0s - loss: 3.8222e-05 - val_loss: 1.3319e-04\n",
      "Epoch 41/50\n",
      " - 0s - loss: 4.1634e-05 - val_loss: 1.2024e-04\n",
      "Epoch 42/50\n",
      " - 0s - loss: 2.6320e-05 - val_loss: 9.1649e-05\n",
      "Epoch 43/50\n",
      " - 0s - loss: 2.4588e-05 - val_loss: 1.0626e-04\n",
      "Epoch 44/50\n",
      " - 0s - loss: 4.5790e-05 - val_loss: 9.1767e-05\n",
      "Epoch 45/50\n",
      " - 0s - loss: 3.0852e-05 - val_loss: 1.2522e-04\n",
      "Epoch 46/50\n",
      " - 0s - loss: 7.5383e-05 - val_loss: 1.6648e-04\n",
      "Epoch 47/50\n",
      " - 0s - loss: 8.4763e-05 - val_loss: 1.2881e-04\n",
      "Epoch 48/50\n",
      " - 0s - loss: 4.4152e-05 - val_loss: 1.0471e-04\n",
      "Epoch 49/50\n",
      " - 0s - loss: 2.7889e-05 - val_loss: 9.9174e-05\n",
      "Epoch 50/50\n",
      " - 0s - loss: 3.5445e-05 - val_loss: 1.6640e-04\n"
     ]
    }
   ],
   "source": [
    "# Train the model\n",
    "\n",
    "# Load the training data set\n",
    "scaled_training_df = pd.read_csv(\"output/sales_data_training_scaled.csv\")\n",
    "X = scaled_training_df.drop('total_earnings', axis=1).values\n",
    "Y = scaled_training_df[['total_earnings']].values\n",
    "\n",
    "# Load the separate test data set\n",
    "scaled_testing_df = pd.read_csv(\"output/sales_data_testing_scaled.csv\")\n",
    "X_test = scaled_testing_df.drop('total_earnings', axis=1).values\n",
    "Y_test = scaled_testing_df[['total_earnings']].values\n",
    "\n",
    "# Delete the folder directory\n",
    "shutil.rmtree(Path('output/logs/{}'.format(RUN_NAME)))\n",
    "\n",
    "# Create a TensorBoard logger\n",
    "logger = keras.callbacks.TensorBoard(\n",
    "    log_dir='output/logs/{}'.format(RUN_NAME),\n",
    "    histogram_freq=5,\n",
    "    write_graph=True\n",
    ")\n",
    "\n",
    "# Train the model\n",
    "model.fit(\n",
    "    X,\n",
    "    Y,\n",
    "    epochs=50,\n",
    "    shuffle=True,\n",
    "    verbose=2,\n",
    "    callbacks=[logger],\n",
    "    validation_data=(X_test, Y_test)\n",
    ")\n",
    "\n",
    "# Save the model to disk\n",
    "model.save(\"models/keras_trained_model.h5\")"
   ]
  },
  {
   "cell_type": "code",
   "execution_count": 6,
   "metadata": {},
   "outputs": [
    {
     "name": "stdout",
     "output_type": "stream",
     "text": [
      "Earnings Prediction for Proposed Product - $265991.2440496683\n"
     ]
    }
   ],
   "source": [
    "# Local predict\n",
    "\n",
    "prediction_model = load_model('models/keras_trained_model.h5')\n",
    "\n",
    "X = pd.read_csv(\"data/proposed_new_product.csv\").values\n",
    "\n",
    "prediction = prediction_model.predict(X)\n",
    "\n",
    "# Grab just the first element of the first prediction (since we only have one)\n",
    "prediction = prediction[0][0]\n",
    "\n",
    "# Re-scale the data from the 0-to-1 range back to dollars\n",
    "# These constants are from when the data was originally scaled down to the 0-to-1 range\n",
    "prediction = prediction - scaler.min_[8]\n",
    "prediction = prediction / scaler.scale_[8]\n",
    "\n",
    "print(\"Earnings Prediction for Proposed Product - ${}\".format(prediction))"
   ]
  },
  {
   "cell_type": "code",
   "execution_count": 7,
   "metadata": {},
   "outputs": [
    {
     "name": "stdout",
     "output_type": "stream",
     "text": [
      "INFO:tensorflow:No assets to save.\n",
      "INFO:tensorflow:No assets to write.\n",
      "INFO:tensorflow:SavedModel written to: models/keras_exported_model/saved_model.pb\n"
     ]
    },
    {
     "data": {
      "text/plain": [
       "b'models/keras_exported_model/saved_model.pb'"
      ]
     },
     "execution_count": 7,
     "metadata": {},
     "output_type": "execute_result"
    }
   ],
   "source": [
    "# Export model\n",
    "\n",
    "sess = K.get_session()\n",
    "\n",
    "prediction_model = load_model('models/keras_trained_model.h5')\n",
    "\n",
    "# Delete the existing folder (if there)\n",
    "shutil.rmtree(Path('models/keras_exported_model'))\n",
    "    \n",
    "inputs = {\n",
    "    'input': tf.saved_model.utils.build_tensor_info(prediction_model.input)\n",
    "}\n",
    "outputs = {\n",
    "    'earnings': tf.saved_model.utils.build_tensor_info(prediction_model.output)\n",
    "}\n",
    "\n",
    "signature_def = tf.saved_model.signature_def_utils.build_signature_def(\n",
    "    inputs=inputs,\n",
    "    outputs=outputs,\n",
    "    method_name=tf.saved_model.signature_constants.PREDICT_METHOD_NAME\n",
    ")\n",
    "\n",
    "model_builder = tf.saved_model.builder.SavedModelBuilder(\"models/keras_exported_model\")\n",
    "\n",
    "model_builder.add_meta_graph_and_variables(\n",
    "    sess=sess,\n",
    "    tags=[tf.saved_model.tag_constants.SERVING],\n",
    "    signature_def_map={ tf.saved_model.signature_constants.DEFAULT_SERVING_SIGNATURE_DEF_KEY: signature_def}\n",
    ")\n",
    "\n",
    "model_builder.save()"
   ]
  },
  {
   "cell_type": "code",
   "execution_count": 8,
   "metadata": {},
   "outputs": [
    {
     "name": "stdout",
     "output_type": "stream",
     "text": [
      "Creating gs://keras_earning-prediction-1000/...\n",
      "Copying file://models/keras_exported_model/saved_model.pb [Content-Type=application/octet-stream]...\n",
      "Copying file://models/keras_exported_model/variables/variables.data-00000-of-00001 [Content-Type=application/octet-stream]...\n",
      "Copying file://models/keras_exported_model/variables/variables.index [Content-Type=application/octet-stream]...\n",
      "\\ [3 files][753.5 KiB/753.5 KiB]                                                \n",
      "Operation completed over 3 objects/753.5 KiB.                                    \n",
      "Created ml engine model [projects/gde-core-dev/models/keras_earnings_prediction].\n",
      "Creating version (this might take a few minutes)......done.                    \n"
     ]
    }
   ],
   "source": [
    "# Upload the model to Google cloud\n",
    "\n",
    "# Make the bucket\n",
    "!gsutil mb -l us-central1 gs://keras_earning-prediction-1000 \n",
    "!gsutil cp -R models/keras_exported_model/* gs://keras_earning-prediction-1000/earnings_v1\n",
    "    \n",
    "# Create the gcloud model\n",
    "!gcloud ml-engine models create keras_earnings_prediction --regions us-central1\n",
    "!gcloud ml-engine versions create v1 --model=keras_earnings_prediction --origin=gs://keras_earning-prediction-1000/earnings_v1/ --runtime-version=1.11"
   ]
  },
  {
   "cell_type": "code",
   "execution_count": 9,
   "metadata": {},
   "outputs": [
    {
     "name": "stdout",
     "output_type": "stream",
     "text": [
      "{\r\n",
      "  \"error\": \"Prediction failed: Error during model execution: AbortionError(code=StatusCode.FAILED_PRECONDITION, details=\\\"Attempting to use uninitialized value output_layer_2/bias\\n\\t [[{{node output_layer_2/bias/read}} = Identity[T=DT_FLOAT, _output_shapes=[[1]], _device=\\\"/job:localhost/replica:0/task:0/device:CPU:0\\\"](output_layer_2/bias)]]\\\")\"\r\n",
      "}\r\n"
     ]
    }
   ],
   "source": [
    "# Predict from Google cloud using gcloud\n",
    "\n",
    "!gcloud ml-engine predict --model=keras_earnings_prediction --json-instances=./data/sample_input_prescaled.json"
   ]
  },
  {
   "cell_type": "code",
   "execution_count": 10,
   "metadata": {},
   "outputs": [
    {
     "ename": "RuntimeError",
     "evalue": "Prediction failed: Error during model execution: AbortionError(code=StatusCode.FAILED_PRECONDITION, details=\"Attempting to use uninitialized value output_layer_2/bias\n\t [[{{node output_layer_2/bias/read}} = Identity[T=DT_FLOAT, _output_shapes=[[1]], _device=\"/job:localhost/replica:0/task:0/device:CPU:0\"](output_layer_2/bias)]]\")",
     "output_type": "error",
     "traceback": [
      "\u001b[0;31m---------------------------------------------------------------------------\u001b[0m",
      "\u001b[0;31mRuntimeError\u001b[0m                              Traceback (most recent call last)",
      "\u001b[0;32m<ipython-input-10-d4373e9209b0>\u001b[0m in \u001b[0;36m<module>\u001b[0;34m()\u001b[0m\n\u001b[1;32m     27\u001b[0m \u001b[0;31m# Report any errors\u001b[0m\u001b[0;34m\u001b[0m\u001b[0;34m\u001b[0m\u001b[0m\n\u001b[1;32m     28\u001b[0m \u001b[0;32mif\u001b[0m \u001b[0;34m'error'\u001b[0m \u001b[0;32min\u001b[0m \u001b[0mresponse\u001b[0m\u001b[0;34m:\u001b[0m\u001b[0;34m\u001b[0m\u001b[0m\n\u001b[0;32m---> 29\u001b[0;31m     \u001b[0;32mraise\u001b[0m \u001b[0mRuntimeError\u001b[0m\u001b[0;34m(\u001b[0m\u001b[0mresponse\u001b[0m\u001b[0;34m[\u001b[0m\u001b[0;34m'error'\u001b[0m\u001b[0;34m]\u001b[0m\u001b[0;34m)\u001b[0m\u001b[0;34m\u001b[0m\u001b[0m\n\u001b[0m\u001b[1;32m     30\u001b[0m \u001b[0;34m\u001b[0m\u001b[0m\n\u001b[1;32m     31\u001b[0m \u001b[0;31m# Grab the results from the response object\u001b[0m\u001b[0;34m\u001b[0m\u001b[0;34m\u001b[0m\u001b[0m\n",
      "\u001b[0;31mRuntimeError\u001b[0m: Prediction failed: Error during model execution: AbortionError(code=StatusCode.FAILED_PRECONDITION, details=\"Attempting to use uninitialized value output_layer_2/bias\n\t [[{{node output_layer_2/bias/read}} = Identity[T=DT_FLOAT, _output_shapes=[[1]], _device=\"/job:localhost/replica:0/task:0/device:CPU:0\"](output_layer_2/bias)]]\")"
     ]
    }
   ],
   "source": [
    "# Predict from Google cloud using SDK\n",
    "\n",
    "from oauth2client.client import GoogleCredentials\n",
    "import googleapiclient.discovery\n",
    "\n",
    "# Change this values to match your project\n",
    "PROJECT_ID = \"gde-core-dev\"\n",
    "MODEL_NAME = \"keras_earnings_prediction\"\n",
    "CREDENTIALS_FILE = \"security/credentials.json\"\n",
    "\n",
    "# These are the values we want a prediction for\n",
    "inputs_for_prediction = [\n",
    "    {\"input\": [0.4999, 1.0, 0.0, 1.0, 0.0, 0.0, 0.0, 0.0, 0.5]}\n",
    "]\n",
    "\n",
    "# Connect to the Google Cloud-ML Service\n",
    "credentials = GoogleCredentials.from_stream(CREDENTIALS_FILE)\n",
    "service = googleapiclient.discovery.build('ml', 'v1', credentials=credentials)\n",
    "\n",
    "# Connect to our Prediction Model\n",
    "name = 'projects/{}/models/{}'.format(PROJECT_ID, MODEL_NAME)\n",
    "response = service.projects().predict(\n",
    "    name=name,\n",
    "    body={'instances': inputs_for_prediction}\n",
    ").execute()\n",
    "\n",
    "# Report any errors\n",
    "if 'error' in response:\n",
    "    raise RuntimeError(response['error'])\n",
    "\n",
    "# Grab the results from the response object\n",
    "results = response['predictions']\n",
    "\n",
    "# Print the results!\n",
    "print(results)"
   ]
  },
  {
   "cell_type": "code",
   "execution_count": 11,
   "metadata": {},
   "outputs": [
    {
     "name": "stdout",
     "output_type": "stream",
     "text": [
      "Deleting version [v1]......done.                                               \n",
      "Deleting model [keras_earnings_prediction]...done.                             \n",
      "Removing gs://keras_earning-prediction-1000/earnings_v1/saved_model.pb#1539198433361521...\n",
      "Removing gs://keras_earning-prediction-1000/earnings_v1/variables.data-00000-of-00001#1539198434332953...\n",
      "Removing gs://keras_earning-prediction-1000/earnings_v1/variables.index#1539198434583221...\n",
      "/ [3/3 objects] 100% Done                                                       \n",
      "Operation completed over 3 objects.                                              \n",
      "Removing gs://keras_earning-prediction-1000/...\n"
     ]
    }
   ],
   "source": [
    "# Delete the model from Google cloud\n",
    "    \n",
    "# Remove the model\n",
    "!gcloud ml-engine versions delete v1 --model=keras_earnings_prediction --quiet\n",
    "!gcloud ml-engine models delete keras_earnings_prediction --quiet\n",
    "\n",
    "# Remove the bucket\n",
    "!gsutil -m rm -r gs://keras_earning-prediction-1000 "
   ]
  },
  {
   "cell_type": "code",
   "execution_count": 12,
   "metadata": {},
   "outputs": [
    {
     "name": "stdout",
     "output_type": "stream",
     "text": [
      "TensorBoard 1.11.0 at http://Jeromes-MBP.hitronhub.home:6006 (Press CTRL+C to quit)\n",
      "^C\n"
     ]
    }
   ],
   "source": [
    "# Visualize the log\n",
    "\n",
    "# Note: Stop once done\n",
    "!tensorboard --logdir=./output/logs"
   ]
  },
  {
   "cell_type": "code",
   "execution_count": 13,
   "metadata": {},
   "outputs": [
    {
     "name": "stdout",
     "output_type": "stream",
     "text": [
      "\n",
      "MetaGraphDef with tag-set: 'serve' contains the following SignatureDefs:\n",
      "\n",
      "signature_def['serving_default']:\n",
      "  The given SavedModel SignatureDef contains the following input(s):\n",
      "    inputs['input'] tensor_info:\n",
      "        dtype: DT_FLOAT\n",
      "        shape: (-1, 9)\n",
      "        name: layer_1_input_2:0\n",
      "  The given SavedModel SignatureDef contains the following output(s):\n",
      "    outputs['earnings'] tensor_info:\n",
      "        dtype: DT_FLOAT\n",
      "        shape: (-1, 1)\n",
      "        name: output_layer_2/BiasAdd:0\n",
      "  Method name is: tensorflow/serving/predict\n"
     ]
    }
   ],
   "source": [
    "# Check the model signature with saved_model_cli\n",
    "\n",
    "!saved_model_cli show --dir ./models/keras_exported_model  --all"
   ]
  },
  {
   "cell_type": "code",
   "execution_count": 14,
   "metadata": {},
   "outputs": [
    {
     "name": "stdout",
     "output_type": "stream",
     "text": [
      "Result for output key earnings:\r\n",
      "[[0.17970213]]\r\n"
     ]
    }
   ],
   "source": [
    "# Test prediction with saved_model_cli\n",
    "\n",
    "!saved_model_cli run --dir ./models/keras_exported_model --tag_set serve --signature_def serving_default --input_exprs 'input=[[0.499, 1.0, 0.0, 1.0, 0.0, 0.0, 0.0, 0.0, 0.5]]'"
   ]
  },
  {
   "cell_type": "code",
   "execution_count": null,
   "metadata": {},
   "outputs": [],
   "source": []
  }
 ],
 "metadata": {
  "kernelspec": {
   "display_name": "Python 3",
   "language": "python",
   "name": "python3"
  },
  "language_info": {
   "codemirror_mode": {
    "name": "ipython",
    "version": 3
   },
   "file_extension": ".py",
   "mimetype": "text/x-python",
   "name": "python",
   "nbconvert_exporter": "python",
   "pygments_lexer": "ipython3",
   "version": "3.6.6"
  }
 },
 "nbformat": 4,
 "nbformat_minor": 2
}
