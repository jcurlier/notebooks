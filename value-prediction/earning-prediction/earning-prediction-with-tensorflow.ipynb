{
 "cells": [
  {
   "cell_type": "markdown",
   "metadata": {},
   "source": [
    "# Earning Prediction using Tensorflow\n",
    "\n",
    "### Libraries\n",
    "- https://pandas.pydata.org/\n",
    "- http://scikit-learn.org/stable/\n",
    "- https://www.tensorflow.org/\n",
    "\n",
    "### Source\n",
    "- https://www.linkedin.com/learning/building-and-deploying-deep-learning-applications-with-tensorflow\n",
    "\n",
    "### Note\n",
    "- Ensure the same version is used locally and on Google cloud https://cloud.google.com/ml-engine/docs/tensorflow/runtime-version-list\n",
    "\n",
    "### To Do\n",
    "- Fix bew error Attempting to use uninitialized value output_layer_2/bias on gcloud"
   ]
  },
  {
   "cell_type": "code",
   "execution_count": 1,
   "metadata": {},
   "outputs": [],
   "source": [
    "# Configuration\n",
    "\n",
    "RUN_NAME = 'tensorflow-run-1'"
   ]
  },
  {
   "cell_type": "code",
   "execution_count": 2,
   "metadata": {},
   "outputs": [],
   "source": [
    "# Libraries\n",
    "\n",
    "import os\n",
    "import shutil\n",
    "from pathlib import Path\n",
    "\n",
    "import tensorflow as tf\n",
    "import pandas as pd\n",
    "from sklearn.preprocessing import MinMaxScaler"
   ]
  },
  {
   "cell_type": "code",
   "execution_count": 4,
   "metadata": {},
   "outputs": [],
   "source": [
    "# Constanta\n",
    "\n",
    "# Turn off TensorFlow warning messages in program output\n",
    "os.environ['TF_CPP_MIN_LOG_LEVEL'] = '2'\n",
    "\n",
    "LOGDIR = Path('output/logs/{}'.format(RUN_NAME))"
   ]
  },
  {
   "cell_type": "code",
   "execution_count": 5,
   "metadata": {},
   "outputs": [
    {
     "name": "stdout",
     "output_type": "stream",
     "text": [
      "(400, 9)\n",
      "(400, 1)\n",
      "Note: Y values were scaled by multiplying by 0.0000036968 and adding -0.1159\n"
     ]
    }
   ],
   "source": [
    "# Load data\n",
    "\n",
    "# Load training data set from CSV file\n",
    "training_data_df = pd.read_csv(\"data/sales_data_training.csv\", dtype=float)\n",
    "\n",
    "# Pull out columns for X (data to train with) and Y (value to predict)\n",
    "X_training = training_data_df.drop('total_earnings', axis=1).values\n",
    "Y_training = training_data_df[['total_earnings']].values\n",
    "\n",
    "# Load testing data set from CSV file\n",
    "test_data_df = pd.read_csv(\"data/sales_data_test.csv\", dtype=float)\n",
    "\n",
    "# Pull out columns for X (data to train with) and Y (value to predict)\n",
    "X_testing = test_data_df.drop('total_earnings', axis=1).values\n",
    "Y_testing = test_data_df[['total_earnings']].values\n",
    "\n",
    "# All data needs to be scaled to a small range like 0 to 1 for the neural\n",
    "# network to work well. Create scalers for the inputs and outputs.\n",
    "X_scaler = MinMaxScaler(feature_range=(0, 1))\n",
    "Y_scaler = MinMaxScaler(feature_range=(0, 1))\n",
    "\n",
    "# Scale both the training inputs and outputs\n",
    "X_scaled_training = X_scaler.fit_transform(X_training)\n",
    "Y_scaled_training = Y_scaler.fit_transform(Y_training)\n",
    "\n",
    "# It's very important that the training and test data are scaled with the same scaler.\n",
    "X_scaled_testing = X_scaler.transform(X_testing)\n",
    "Y_scaled_testing = Y_scaler.transform(Y_testing)\n",
    "\n",
    "print(X_scaled_testing.shape)\n",
    "print(Y_scaled_testing.shape)\n",
    "\n",
    "print(\"Note: Y values were scaled by multiplying by {:.10f} and adding {:.4f}\".format(Y_scaler.scale_[0], Y_scaler.min_[0]))"
   ]
  },
  {
   "cell_type": "code",
   "execution_count": 6,
   "metadata": {},
   "outputs": [],
   "source": [
    "# Build the model\n",
    "\n",
    "# Define model parameters\n",
    "learning_rate = 0.001\n",
    "training_epochs = 100\n",
    "display_step = 5\n",
    "\n",
    "# Define how many inputs and outputs are in our neural network\n",
    "number_of_inputs = 9\n",
    "number_of_outputs = 1\n",
    "\n",
    "# Define how many neurons we want in each layer of our neural network\n",
    "layer_1_nodes = 50\n",
    "layer_2_nodes = 100\n",
    "layer_3_nodes = 50\n",
    "\n",
    "# Section One: Define the layers of the neural network itself\n",
    "\n",
    "# Input Layer\n",
    "with tf.variable_scope('input'):\n",
    "    X = tf.placeholder(tf.float32, shape=(None, number_of_inputs))\n",
    "\n",
    "# Layer 1\n",
    "with tf.variable_scope('layer_1'):\n",
    "    weights = tf.get_variable(\"weights1\", shape=[number_of_inputs, layer_1_nodes], initializer=tf.contrib.layers.xavier_initializer())\n",
    "    biases = tf.get_variable(name=\"biases1\", shape=[layer_1_nodes], initializer=tf.zeros_initializer())\n",
    "    layer_1_output = tf.nn.relu(tf.matmul(X, weights) + biases)\n",
    "\n",
    "# Layer 2\n",
    "with tf.variable_scope('layer_2'):\n",
    "    weights = tf.get_variable(\"weights2\", shape=[layer_1_nodes, layer_2_nodes], initializer=tf.contrib.layers.xavier_initializer())\n",
    "    biases = tf.get_variable(name=\"biases2\", shape=[layer_2_nodes], initializer=tf.zeros_initializer())\n",
    "    layer_2_output = tf.nn.relu(tf.matmul(layer_1_output, weights) + biases)\n",
    "\n",
    "# Layer 3\n",
    "with tf.variable_scope('layer_3'):\n",
    "    weights = tf.get_variable(\"weights3\", shape=[layer_2_nodes, layer_3_nodes], initializer=tf.contrib.layers.xavier_initializer())\n",
    "    biases = tf.get_variable(name=\"biases3\", shape=[layer_3_nodes], initializer=tf.zeros_initializer())\n",
    "    layer_3_output = tf.nn.relu(tf.matmul(layer_2_output, weights) + biases)\n",
    "\n",
    "# Output Layer\n",
    "with tf.variable_scope('output'):\n",
    "    weights = tf.get_variable(\"weights4\", shape=[layer_3_nodes, number_of_outputs], initializer=tf.contrib.layers.xavier_initializer())\n",
    "    biases = tf.get_variable(name=\"biases4\", shape=[number_of_outputs], initializer=tf.zeros_initializer())\n",
    "    prediction = tf.matmul(layer_3_output, weights) + biases\n",
    "\n",
    "# Section Two: Define the cost function of the neural network that will measure prediction accuracy during training\n",
    "\n",
    "with tf.variable_scope('cost'):\n",
    "    Y = tf.placeholder(tf.float32, shape=(None, 1))\n",
    "    cost = tf.reduce_mean(tf.squared_difference(prediction, Y))\n",
    "\n",
    "# Section Three: Define the optimizer function that will be run to optimize the neural network\n",
    "\n",
    "with tf.variable_scope('train'):\n",
    "    optimizer = tf.train.AdamOptimizer(learning_rate).minimize(cost)"
   ]
  },
  {
   "cell_type": "code",
   "execution_count": 10,
   "metadata": {},
   "outputs": [
    {
     "name": "stdout",
     "output_type": "stream",
     "text": [
      "Epoch: 0 - Training Cost: 0.013742944225668907  Testing Cost: 0.013561643660068512\n",
      "Epoch: 5 - Training Cost: 0.005647342186421156  Testing Cost: 0.005443392787128687\n",
      "Epoch: 10 - Training Cost: 0.003199583850800991  Testing Cost: 0.0029055189806967974\n",
      "Epoch: 15 - Training Cost: 0.002475096145644784  Testing Cost: 0.0023624799214303493\n",
      "Epoch: 20 - Training Cost: 0.0015638229670003057  Testing Cost: 0.001584087498486042\n",
      "Epoch: 25 - Training Cost: 0.0009682776872068644  Testing Cost: 0.0009955486748367548\n",
      "Epoch: 30 - Training Cost: 0.0007835892611183226  Testing Cost: 0.0008094976074062288\n",
      "Epoch: 35 - Training Cost: 0.0005653653061017394  Testing Cost: 0.0006360664847306907\n",
      "Epoch: 40 - Training Cost: 0.0003902293392457068  Testing Cost: 0.0004924313980154693\n",
      "Epoch: 45 - Training Cost: 0.0003058921720366925  Testing Cost: 0.00042466301238164306\n",
      "Epoch: 50 - Training Cost: 0.00023906743444968015  Testing Cost: 0.00035200666752643883\n",
      "Epoch: 55 - Training Cost: 0.00019489564874675125  Testing Cost: 0.00031000253511592746\n",
      "Epoch: 60 - Training Cost: 0.0001692234945949167  Testing Cost: 0.0002955863019451499\n",
      "Epoch: 65 - Training Cost: 0.00014539452968165278  Testing Cost: 0.00024663598742336035\n",
      "Epoch: 70 - Training Cost: 0.00012332391634117812  Testing Cost: 0.00023533475177828223\n",
      "Epoch: 75 - Training Cost: 0.00010786783968796954  Testing Cost: 0.0002185887860832736\n",
      "Epoch: 80 - Training Cost: 9.68557724263519e-05  Testing Cost: 0.00020242463506292552\n",
      "Epoch: 85 - Training Cost: 8.752797293709591e-05  Testing Cost: 0.0001939806097652763\n",
      "Epoch: 90 - Training Cost: 7.868347893236205e-05  Testing Cost: 0.00018012059445027262\n",
      "Epoch: 95 - Training Cost: 7.151594763854519e-05  Testing Cost: 0.0001722504966892302\n",
      "Training is now complete\n",
      "Final Training cost: 6.648991984548047e-05\n",
      "Final Testing cost: 0.0001692040968919173\n"
     ]
    }
   ],
   "source": [
    "# Train the model\n",
    "\n",
    "# Delete the folder directory\n",
    "if os.path.exists(LOGDIR):\n",
    "    shutil.rmtree(LOGDIR)\n",
    "\n",
    "# Create a summary operation to log the progress of the network\n",
    "with tf.variable_scope('logging'):\n",
    "    tf.summary.scalar('current_cost', cost)\n",
    "    summary = tf.summary.merge_all()\n",
    "\n",
    "# Initialize a session so that we can run TensorFlow operations\n",
    "session = tf.Session()\n",
    "\n",
    "# saver = tf.train.Saver()\n",
    "\n",
    "# Run the global variable initializer to initialize all variables and layers of the neural network\n",
    "session.run(tf.global_variables_initializer())\n",
    "\n",
    "# Instead, load them from disk:\n",
    "# saver.restore(session, \"models/tf_trained_model.ckpt\")\n",
    "    \n",
    "# Create log file writers to record training progress.\n",
    "# We'll store training and testing log data separately.\n",
    "training_writer = tf.summary.FileWriter('{}/training'.format(LOGDIR), session.graph)\n",
    "testing_writer = tf.summary.FileWriter('{}/testing'.format(LOGDIR), session.graph)\n",
    "\n",
    "# Run the optimizer over and over to train the network.\n",
    "# One epoch is one full run through the training data set.\n",
    "for epoch in range(training_epochs):\n",
    "\n",
    "    # Feed in the training data and do one step of neural network training\n",
    "    session.run(optimizer, feed_dict={X: X_scaled_training, Y: Y_scaled_training})\n",
    "\n",
    "    # Every 5 training steps, log our progress\n",
    "    if epoch % 5 == 0:\n",
    "        # Get the current accuracy scores by running the \"cost\" operation on the training and test data sets\n",
    "        training_cost, training_summary = session.run([cost, summary], feed_dict={X: X_scaled_training, Y: Y_scaled_training})\n",
    "        testing_cost, testing_summary = session.run([cost, summary], feed_dict={X: X_scaled_testing, Y: Y_scaled_testing})\n",
    "\n",
    "        # Write the current training status to the log files (Which we can view with TensorBoard)\n",
    "        training_writer.add_summary(training_summary, epoch)\n",
    "        testing_writer.add_summary(testing_summary, epoch)\n",
    "\n",
    "        # Print the current training status to the screen\n",
    "        print(\"Epoch: {} - Training Cost: {}  Testing Cost: {}\".format(epoch, training_cost, testing_cost))\n",
    "\n",
    "# save_path = saver.save(session, \"models/tf_trained_model.ckpt\")\n",
    "# print(\"Model saved: {}\".format(save_path))\n",
    "    \n",
    "# Training is now complete!\n",
    "training_writer.close()\n",
    "testing_writer.close()\n",
    "\n",
    "print(\"Training is now complete\")\n",
    "\n",
    "# Get the final accuracy scores by running the \"cost\" operation on the training and test data sets\n",
    "final_training_cost = session.run(cost, feed_dict={X: X_scaled_training, Y: Y_scaled_training})\n",
    "final_testing_cost = session.run(cost, feed_dict={X: X_scaled_testing, Y: Y_scaled_testing})\n",
    "\n",
    "print(\"Final Training cost: {}\".format(final_training_cost))\n",
    "print(\"Final Testing cost: {}\".format(final_testing_cost))"
   ]
  },
  {
   "cell_type": "code",
   "execution_count": 12,
   "metadata": {},
   "outputs": [
    {
     "name": "stdout",
     "output_type": "stream",
     "text": [
      "The actual earnings of Game #1 were $247537.0\n",
      "Our neural network predicted earnings of $253210.671875\n"
     ]
    }
   ],
   "source": [
    "# Predict\n",
    "\n",
    "# Now that the neural network is trained, let's use it to make predictions for our test data.\n",
    "# Pass in the X testing data and run the \"prediciton\" operation\n",
    "Y_predicted_scaled = session.run(prediction, feed_dict={X: X_scaled_testing})\n",
    "\n",
    "# Unscale the data back to it's original units (dollars)\n",
    "Y_predicted = Y_scaler.inverse_transform(Y_predicted_scaled)\n",
    "\n",
    "real_earnings = test_data_df['total_earnings'].values[0]\n",
    "predicted_earnings = Y_predicted[0][0]\n",
    "\n",
    "print(\"The actual earnings of Game #1 were ${}\".format(real_earnings))\n",
    "print(\"Our neural network predicted earnings of ${}\".format(predicted_earnings))"
   ]
  },
  {
   "cell_type": "code",
   "execution_count": 11,
   "metadata": {},
   "outputs": [
    {
     "name": "stdout",
     "output_type": "stream",
     "text": [
      "TensorBoard 1.11.0 at http://Jeromes-MBP.hitronhub.home:6006 (Press CTRL+C to quit)\n",
      "^C\n"
     ]
    }
   ],
   "source": [
    "# Visualize the log\n",
    "\n",
    "# Note: Stop once done\n",
    "!tensorboard --logdir=$LOGDIR"
   ]
  },
  {
   "cell_type": "code",
   "execution_count": null,
   "metadata": {},
   "outputs": [],
   "source": []
  }
 ],
 "metadata": {
  "kernelspec": {
   "display_name": "Python 3",
   "language": "python",
   "name": "python3"
  },
  "language_info": {
   "codemirror_mode": {
    "name": "ipython",
    "version": 3
   },
   "file_extension": ".py",
   "mimetype": "text/x-python",
   "name": "python",
   "nbconvert_exporter": "python",
   "pygments_lexer": "ipython3",
   "version": "3.6.6"
  }
 },
 "nbformat": 4,
 "nbformat_minor": 2
}
