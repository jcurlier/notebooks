{
 "cells": [
  {
   "cell_type": "markdown",
   "metadata": {},
   "source": [
    "# Similar Movie Recommender\n",
    "\n",
    "### Libraries\n",
    "- https://pandas.pydata.org/\n",
    "- http://www.numpy.org/\n",
    "\n",
    "### Source\n",
    "- https://www.linkedin.com/learning/machine-learning-ai-foundations-recommendations"
   ]
  },
  {
   "cell_type": "code",
   "execution_count": 1,
   "metadata": {},
   "outputs": [],
   "source": [
    "# Choose a movie to find similar movies to. Let's find movies similar to movie #5:\n",
    "\n",
    "movie_id = 5"
   ]
  },
  {
   "cell_type": "code",
   "execution_count": 2,
   "metadata": {},
   "outputs": [],
   "source": [
    "# Libraries\n",
    "\n",
    "import numpy as np\n",
    "import pandas as pd\n",
    "import matrix_factorization_utilities"
   ]
  },
  {
   "cell_type": "code",
   "execution_count": 3,
   "metadata": {},
   "outputs": [],
   "source": [
    "# Load data\n",
    "\n",
    "# Load user ratings\n",
    "df = pd.read_csv('data/movie_ratings_data_set.csv')\n",
    "\n",
    "# Load movie titles\n",
    "movies_df = pd.read_csv('data/movies.csv', index_col='movie_id')\n",
    "\n",
    "# Convert the running list of user ratings into a matrix\n",
    "ratings_df = pd.pivot_table(df, index='user_id', columns='movie_id', aggfunc=np.max)\n",
    "\n",
    "# Create a csv file of the data for easy viewing\n",
    "ratings_df.to_csv(\"output/review_matrix.csv\", na_rep=\"\")"
   ]
  },
  {
   "cell_type": "code",
   "execution_count": 4,
   "metadata": {},
   "outputs": [
    {
     "name": "stderr",
     "output_type": "stream",
     "text": [
      "/Library/Frameworks/Python.framework/Versions/3.6/lib/python3.6/site-packages/ipykernel_launcher.py:2: FutureWarning: Method .as_matrix will be removed in a future version. Use .values instead.\n",
      "  \n"
     ]
    },
    {
     "name": "stdout",
     "output_type": "stream",
     "text": [
      "Optimization terminated successfully.\n",
      "         Current function value: 312.762757\n",
      "         Iterations: 1582\n",
      "         Function evaluations: 2365\n",
      "         Gradient evaluations: 2365\n"
     ]
    }
   ],
   "source": [
    "# Apply matrix factorization to find the latent features\n",
    "U, M = matrix_factorization_utilities.low_rank_matrix_factorization(ratings_df.as_matrix(),\n",
    "                                                                    num_features=15,\n",
    "                                                                    regularization_amount=1.0)\n",
    "\n",
    "# Swap the rows and columns of product_features just so it's easier to work with\n",
    "M = np.transpose(M)"
   ]
  },
  {
   "cell_type": "code",
   "execution_count": 5,
   "metadata": {},
   "outputs": [
    {
     "name": "stdout",
     "output_type": "stream",
     "text": [
      "We are finding movies similar to this movie:\n",
      "Movie title: The Big City Judge 2\n",
      "Genre: legal drama\n",
      "The attributes for this movie are:\n",
      "[ 0.66540002 -0.82926466 -0.72701454  0.52204921 -0.84848216 -1.84147034\n",
      " -0.78728766  0.25962615 -0.11966971  0.11401201 -0.15075569 -0.17696512\n",
      " -0.23309564 -0.81290838  1.08279139]\n"
     ]
    }
   ],
   "source": [
    "# Get current movie features\n",
    "\n",
    "# Get movie #1's name and genre\n",
    "movie_information = movies_df.loc[movie_id]\n",
    "\n",
    "print(\"We are finding movies similar to this movie:\")\n",
    "print(\"Movie title: {}\".format(movie_information.title))\n",
    "print(\"Genre: {}\".format(movie_information.genre))\n",
    "\n",
    "# Get the features for movie #1 we found via matrix factorization\n",
    "current_movie_features = M[movie_id - 1]\n",
    "\n",
    "print(\"The attributes for this movie are:\")\n",
    "print(current_movie_features)"
   ]
  },
  {
   "cell_type": "code",
   "execution_count": 6,
   "metadata": {},
   "outputs": [
    {
     "name": "stdout",
     "output_type": "stream",
     "text": [
      "The five most similar movies are:\n",
      "                            title  difference_score\n",
      "movie_id                                           \n",
      "5            The Big City Judge 2          0.000000\n",
      "10        Surrounded by Zombies 1          1.872421\n",
      "9                     Biker Gangs          2.599769\n",
      "3                   The Sheriff 2          2.695851\n",
      "24           The Big City Judge 3          2.787371\n"
     ]
    }
   ],
   "source": [
    "# Finding similar movies:\n",
    "\n",
    "# 1. Subtract the current movie's features from every other movie's features\n",
    "difference = M - current_movie_features\n",
    "\n",
    "# 2. Take the absolute value of that difference (so all numbers are positive)\n",
    "absolute_difference = np.abs(difference)\n",
    "\n",
    "# 3. Each movie has 15 features. Sum those 15 features to get a total 'difference score' for each movie\n",
    "total_difference = np.sum(absolute_difference, axis=1)\n",
    "\n",
    "# 4. Create a new column in the movie list with the difference score for each movie\n",
    "movies_df['difference_score'] = total_difference\n",
    "\n",
    "# 5. Sort the movie list by difference score, from least different to most different\n",
    "sorted_movie_list = movies_df.sort_values('difference_score')\n",
    "\n",
    "# 6. Print the result, showing the 5 most similar movies to movie_id #1\n",
    "print(\"The five most similar movies are:\")\n",
    "print(sorted_movie_list[['title', 'difference_score']][0:5])"
   ]
  },
  {
   "cell_type": "code",
   "execution_count": null,
   "metadata": {},
   "outputs": [],
   "source": []
  }
 ],
 "metadata": {
  "kernelspec": {
   "display_name": "Python 3",
   "language": "python",
   "name": "python3"
  },
  "language_info": {
   "codemirror_mode": {
    "name": "ipython",
    "version": 3
   },
   "file_extension": ".py",
   "mimetype": "text/x-python",
   "name": "python",
   "nbconvert_exporter": "python",
   "pygments_lexer": "ipython3",
   "version": "3.6.6"
  }
 },
 "nbformat": 4,
 "nbformat_minor": 2
}
