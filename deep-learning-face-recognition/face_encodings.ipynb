{
 "cells": [
  {
   "cell_type": "markdown",
   "metadata": {},
   "source": [
    "# Face Encodings\n",
    "\n",
    "<img src=\"./images/person.jpg\" width=\"800\"/>\n",
    "\n",
    "Libraries:\n",
    "- https://github.com/ageitgey/face_recognition\n",
    "- https://pillow.readthedocs.io/en/5.3.x/\n",
    "\n",
    "Source:\n",
    "- https://www.linkedin.com/learning/deep-learning-face-recognition"
   ]
  },
  {
   "cell_type": "code",
   "execution_count": 4,
   "metadata": {},
   "outputs": [
    {
     "name": "stdout",
     "output_type": "stream",
     "text": [
      "[-0.20855844  0.0184522   0.05200074 -0.01912924 -0.02748851 -0.01855106\n",
      " -0.02725511 -0.01845026  0.19835587 -0.01124573  0.19645663  0.01600679\n",
      " -0.1562181  -0.08862404 -0.0091515   0.11604422 -0.12597203 -0.14229304\n",
      " -0.03572804 -0.03505836  0.03726098  0.03980882 -0.07782643  0.07926024\n",
      " -0.1474423  -0.34706154 -0.10856137 -0.12216785  0.01723716 -0.11650685\n",
      "  0.0651129  -0.03900219 -0.18297048 -0.10930695  0.06847557  0.12637652\n",
      " -0.05037965 -0.09572256  0.1342985  -0.00703453 -0.16005869 -0.05573077\n",
      "  0.08435312  0.27441847  0.13435341  0.08523723  0.00496128 -0.11246416\n",
      "  0.16313255 -0.27373856  0.08402474  0.10128945  0.15344834  0.10832091\n",
      "  0.1160922  -0.09201843  0.07474777  0.25488403 -0.30816698  0.10207565\n",
      "  0.00198595 -0.01495524  0.03411687 -0.02620058  0.21705671  0.14441346\n",
      " -0.11093324 -0.12751676  0.17208095 -0.16183107 -0.04968157  0.12839447\n",
      " -0.03207504 -0.26411182 -0.31615108  0.07128876  0.3626399   0.18028153\n",
      " -0.13117117 -0.01013261 -0.05811114 -0.00737816  0.03560936  0.03457599\n",
      " -0.09948465 -0.06623531 -0.05779978 -0.01711864  0.24389178  0.12510218\n",
      "  0.00310596  0.16942379 -0.01417201 -0.02782667  0.00143113  0.06574465\n",
      " -0.10071306  0.00664653 -0.07640253 -0.06614341  0.03114724  0.03002056\n",
      "  0.07674077  0.13323885 -0.21063036  0.15302026 -0.01548973 -0.04833614\n",
      "  0.00523049 -0.02149032 -0.06463674  0.01915044  0.14195834 -0.29341796\n",
      "  0.22209309  0.12297857  0.04837457  0.15621085  0.00215634  0.00968098\n",
      " -0.03717984 -0.11729004 -0.17494752 -0.01424963  0.05999145 -0.0759041\n",
      "  0.07595524 -0.00694481]\n"
     ]
    }
   ],
   "source": [
    "import face_recognition\n",
    "\n",
    "# Load the jpg files into numpy arrays\n",
    "image = face_recognition.load_image_file(\"./images/person.jpg\")\n",
    "\n",
    "# Generate the face encodings\n",
    "face_encodings = face_recognition.face_encodings(image)\n",
    "\n",
    "if len(face_encodings) == 0:\n",
    "    # No faces found in the image.\n",
    "    print(\"No faces were found.\")\n",
    "\n",
    "else:\n",
    "    # Grab the first face encoding\n",
    "    first_face_encoding = face_encodings[0]\n",
    "\n",
    "    # Print the results\n",
    "    print(first_face_encoding)"
   ]
  },
  {
   "cell_type": "code",
   "execution_count": null,
   "metadata": {},
   "outputs": [],
   "source": []
  }
 ],
 "metadata": {
  "kernelspec": {
   "display_name": "Python 3",
   "language": "python",
   "name": "python3"
  },
  "language_info": {
   "codemirror_mode": {
    "name": "ipython",
    "version": 3
   },
   "file_extension": ".py",
   "mimetype": "text/x-python",
   "name": "python",
   "nbconvert_exporter": "python",
   "pygments_lexer": "ipython3",
   "version": "3.6.6"
  }
 },
 "nbformat": 4,
 "nbformat_minor": 2
}
